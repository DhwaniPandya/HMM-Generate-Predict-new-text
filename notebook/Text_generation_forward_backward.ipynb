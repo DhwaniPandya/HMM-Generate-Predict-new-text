{
 "cells": [
  {
   "cell_type": "markdown",
   "metadata": {},
   "source": [
    "Hidden markov model - forward backward approach for text prediction"
   ]
  },
  {
   "cell_type": "markdown",
   "metadata": {},
   "source": [
    "Text - corpus on which text prediction done is playerlines for different plays.\n",
    "The assumption made here is let's say we want to write a play and predict the best possible playerlines from the existing playerlines of each play.\n",
    "\n",
    "Input dataset : https://www.kaggle.com/kingburrito666/shakespeare-plays\n",
    "        \n",
    "References : https://en.wikipedia.org/wiki/Forward%E2%80%93backward_algorithm"
   ]
  },
  {
   "cell_type": "code",
   "execution_count": 1,
   "metadata": {},
   "outputs": [],
   "source": [
    "#importing necessary libraries\n",
    "\n",
    "import pandas as pd\n",
    "import numpy as np"
   ]
  },
  {
   "cell_type": "code",
   "execution_count": 2,
   "metadata": {},
   "outputs": [],
   "source": [
    "#Reading file Shakespeare_data\n",
    "\n",
    "Path = r'C:\\Users\\Dhwani\\Desktop\\ML\\HW2\\Shakespeare_data\\Shakespeare_data.csv'\n",
    "ShakespeareDf = pd.read_csv(Path)"
   ]
  },
  {
   "cell_type": "code",
   "execution_count": 3,
   "metadata": {},
   "outputs": [
    {
     "data": {
      "text/html": [
       "<div>\n",
       "<style scoped>\n",
       "    .dataframe tbody tr th:only-of-type {\n",
       "        vertical-align: middle;\n",
       "    }\n",
       "\n",
       "    .dataframe tbody tr th {\n",
       "        vertical-align: top;\n",
       "    }\n",
       "\n",
       "    .dataframe thead th {\n",
       "        text-align: right;\n",
       "    }\n",
       "</style>\n",
       "<table border=\"1\" class=\"dataframe\">\n",
       "  <thead>\n",
       "    <tr style=\"text-align: right;\">\n",
       "      <th></th>\n",
       "      <th>Play</th>\n",
       "      <th>PlayerLine</th>\n",
       "    </tr>\n",
       "  </thead>\n",
       "  <tbody>\n",
       "    <tr>\n",
       "      <th>0</th>\n",
       "      <td>Henry IV</td>\n",
       "      <td>ACT I</td>\n",
       "    </tr>\n",
       "    <tr>\n",
       "      <th>1</th>\n",
       "      <td>Henry IV</td>\n",
       "      <td>SCENE I. London. The palace.</td>\n",
       "    </tr>\n",
       "    <tr>\n",
       "      <th>2</th>\n",
       "      <td>Henry IV</td>\n",
       "      <td>Enter KING HENRY, LORD JOHN OF LANCASTER, the ...</td>\n",
       "    </tr>\n",
       "    <tr>\n",
       "      <th>3</th>\n",
       "      <td>Henry IV</td>\n",
       "      <td>So shaken as we are, so wan with care,</td>\n",
       "    </tr>\n",
       "    <tr>\n",
       "      <th>4</th>\n",
       "      <td>Henry IV</td>\n",
       "      <td>Find we a time for frighted peace to pant,</td>\n",
       "    </tr>\n",
       "  </tbody>\n",
       "</table>\n",
       "</div>"
      ],
      "text/plain": [
       "       Play                                         PlayerLine\n",
       "0  Henry IV                                              ACT I\n",
       "1  Henry IV                       SCENE I. London. The palace.\n",
       "2  Henry IV  Enter KING HENRY, LORD JOHN OF LANCASTER, the ...\n",
       "3  Henry IV             So shaken as we are, so wan with care,\n",
       "4  Henry IV         Find we a time for frighted peace to pant,"
      ]
     },
     "execution_count": 3,
     "metadata": {},
     "output_type": "execute_result"
    }
   ],
   "source": [
    "ShakespeareDf[['Play','PlayerLine']].head()"
   ]
  },
  {
   "cell_type": "code",
   "execution_count": 4,
   "metadata": {},
   "outputs": [],
   "source": [
    "# Taking sample of 2 playerlines from each of the 10 plays\n",
    "\n",
    "playerLines = [] \n",
    "playL ={}\n",
    "UniquePlay = ShakespeareDf.Play.unique()[0:10]\n",
    "for play in UniquePlay :\n",
    "    playerLines.append(ShakespeareDf[['Play','PlayerLine']][ShakespeareDf['Play'] == play][10:12])"
   ]
  },
  {
   "cell_type": "code",
   "execution_count": 5,
   "metadata": {},
   "outputs": [],
   "source": [
    "#importing natural language tool kit for natural language processing\n",
    "import nltk\n",
    "import string\n",
    "\n",
    "tokens={}\n",
    "#this function tokenizes a sentence into number of words.So tokenizing each word of playerline\n",
    "def tokenize(text):\n",
    "    sentence = text.rstrip().lower()\n",
    "    return sentence.translate(str.maketrans('','', string.punctuation)).split()"
   ]
  },
  {
   "cell_type": "code",
   "execution_count": 6,
   "metadata": {},
   "outputs": [
    {
     "name": "stdout",
     "output_type": "stream",
     "text": [
      "Nor bruise her flowerets with the armed hoofs\n",
      "Of hostile paces those opposed eyes\n",
      "England neer had a king until his time\n",
      "Virtue he had deserving to command\n",
      "Seven earls twelve barons and twenty reverend bishops\n",
      "I have performd my task and was espoused\n",
      "Charged our main battles front and breaking in\n",
      "Were by the swords of common soldiers slain\n",
      "worthiness would stir it up where it wanted rather\n",
      "than lack it where there is such abundance\n",
      "properly stays me here at home unkept for call you\n",
      "that keeping for a gentleman of my birth that\n",
      "The buckles on his breast reneges all temper\n",
      "And is become the bellows and the fan\n",
      "Who wanting guilders to redeem their lives\n",
      "Have seald his rigorous statutes with their bloods\n",
      "Ist a verdict\n",
      "No more talking ont let it be done away away\n",
      "Unto a poor but worthy gentleman shes wedded\n",
      "Her husband banishd she imprisond all\n"
     ]
    }
   ],
   "source": [
    "for lines in playerLines:\n",
    "      for sentence in lines.PlayerLine:\n",
    "            print(sentence.translate(str.maketrans('','', string.punctuation)))"
   ]
  },
  {
   "cell_type": "code",
   "execution_count": 7,
   "metadata": {},
   "outputs": [],
   "source": [
    "#Calling tokenize function on playerlines\n",
    "\n",
    "tokens=[]\n",
    "for lines in playerLines:\n",
    "      for sentence in lines.PlayerLine:\n",
    "        tempToken = tokenize(sentence)\n",
    "        tokens.append(tempToken)"
   ]
  },
  {
   "cell_type": "code",
   "execution_count": 8,
   "metadata": {},
   "outputs": [
    {
     "data": {
      "text/plain": [
       "['i', 'have', 'performd', 'my', 'task', 'and', 'was', 'espoused']"
      ]
     },
     "execution_count": 8,
     "metadata": {},
     "output_type": "execute_result"
    }
   ],
   "source": [
    "# result of tokenization\n",
    "tokens[5]"
   ]
  },
  {
   "cell_type": "code",
   "execution_count": 9,
   "metadata": {},
   "outputs": [],
   "source": [
    "# saving words in prev_word - word pair\n",
    "def addingTextInDictionary(dictionary, key, value):\n",
    "    if key not in dictionary:\n",
    "        dictionary[key] = []\n",
    "    dictionary[key].append(value)"
   ]
  },
  {
   "cell_type": "code",
   "execution_count": 10,
   "metadata": {},
   "outputs": [],
   "source": [
    "#Adding words into dictionary and counting occurences of next word count\n",
    "transition_probability = {}\n",
    "start_word_probability = {}\n",
    "for tokensPerSentence in tokens:\n",
    " \n",
    " tokens_length = len(tokensPerSentence)\n",
    " for i in range(tokens_length):\n",
    "    token = tokensPerSentence[i]\n",
    "    \n",
    "    prev_token = tokensPerSentence[i - 1]\n",
    "    if i == 0:\n",
    "        start_word_probability[token] = start_word_probability.get(token, 0) + 1\n",
    "        continue;\n",
    "    else:\n",
    "          addingTextInDictionary(transition_probability, prev_token, token)\n",
    "          if i == tokens_length  - 1:\n",
    "           addingTextInDictionary(transition_probability, token, 'END')"
   ]
  },
  {
   "cell_type": "code",
   "execution_count": 11,
   "metadata": {},
   "outputs": [],
   "source": [
    "# Computing transition and initial probability based on counts. In short putting weights for the word pair\n",
    "dictWithProbability = {}\n",
    "count_start_word = sum(start_word_probability.values())\n",
    "for key,prob in start_word_probability.items():\n",
    "    start_word_probability[key] = prob / count_start_word\n",
    "    \n",
    "for prev_word,word in transition_probability.items():\n",
    "  dictWithProbability = {}\n",
    "  total = len(word) #total next words for a token\n",
    "  for item in word:\n",
    "   dictWithProbability[item] = dictWithProbability.get(item,0) + 1\n",
    "  for key,value in dictWithProbability.items():\n",
    "   dictWithProbability[key] = value / total\n",
    "  transition_probability[prev_word] = dictWithProbability\n"
   ]
  },
  {
   "cell_type": "code",
   "execution_count": 12,
   "metadata": {},
   "outputs": [
    {
     "data": {
      "text/plain": [
       "{'nor': {'bruise': 1.0},\n",
       " 'bruise': {'her': 1.0},\n",
       " 'her': {'flowerets': 0.5, 'husband': 0.5},\n",
       " 'flowerets': {'with': 1.0},\n",
       " 'with': {'the': 0.5, 'their': 0.5},\n",
       " 'the': {'armed': 0.2,\n",
       "  'swords': 0.2,\n",
       "  'buckles': 0.2,\n",
       "  'bellows': 0.2,\n",
       "  'fan': 0.2},\n",
       " 'armed': {'hoofs': 1.0},\n",
       " 'hoofs': {'END': 1.0},\n",
       " 'of': {'hostile': 0.3333333333333333,\n",
       "  'common': 0.3333333333333333,\n",
       "  'my': 0.3333333333333333},\n",
       " 'hostile': {'paces': 1.0},\n",
       " 'paces': {'those': 1.0},\n",
       " 'those': {'opposed': 1.0},\n",
       " 'opposed': {'eyes': 1.0},\n",
       " 'eyes': {'END': 1.0},\n",
       " 'england': {'neer': 1.0},\n",
       " 'neer': {'had': 1.0},\n",
       " 'had': {'a': 0.5, 'deserving': 0.5},\n",
       " 'a': {'king': 0.25, 'gentleman': 0.25, 'verdict': 0.25, 'poor': 0.25},\n",
       " 'king': {'until': 1.0},\n",
       " 'until': {'his': 1.0},\n",
       " 'his': {'time': 0.3333333333333333,\n",
       "  'breast': 0.3333333333333333,\n",
       "  'rigorous': 0.3333333333333333},\n",
       " 'time': {'END': 1.0},\n",
       " 'virtue': {'he': 1.0},\n",
       " 'he': {'had': 1.0},\n",
       " 'deserving': {'to': 1.0},\n",
       " 'to': {'command': 0.5, 'redeem': 0.5},\n",
       " 'command': {'END': 1.0},\n",
       " 'seven': {'earls': 1.0},\n",
       " 'earls': {'twelve': 1.0},\n",
       " 'twelve': {'barons': 1.0},\n",
       " 'barons': {'and': 1.0},\n",
       " 'and': {'twenty': 0.2, 'was': 0.2, 'breaking': 0.2, 'is': 0.2, 'the': 0.2},\n",
       " 'twenty': {'reverend': 1.0},\n",
       " 'reverend': {'bishops': 1.0},\n",
       " 'bishops': {'END': 1.0},\n",
       " 'i': {'have': 1.0},\n",
       " 'have': {'performd': 0.5, 'seald': 0.5},\n",
       " 'performd': {'my': 1.0},\n",
       " 'my': {'task': 0.5, 'birth': 0.5},\n",
       " 'task': {'and': 1.0},\n",
       " 'was': {'espoused': 1.0},\n",
       " 'espoused': {'END': 1.0},\n",
       " 'charged': {'our': 1.0},\n",
       " 'our': {'main': 1.0},\n",
       " 'main': {'battles': 1.0},\n",
       " 'battles': {'front': 1.0},\n",
       " 'front': {'and': 1.0},\n",
       " 'breaking': {'in': 1.0},\n",
       " 'in': {'END': 1.0},\n",
       " 'were': {'by': 1.0},\n",
       " 'by': {'the': 1.0},\n",
       " 'swords': {'of': 1.0},\n",
       " 'common': {'soldiers': 1.0},\n",
       " 'soldiers': {'slain': 1.0},\n",
       " 'slain': {'END': 1.0},\n",
       " 'worthiness': {'would': 1.0},\n",
       " 'would': {'stir': 1.0},\n",
       " 'stir': {'it': 1.0},\n",
       " 'it': {'up': 0.25, 'wanted': 0.25, 'where': 0.25, 'be': 0.25},\n",
       " 'up': {'where': 1.0},\n",
       " 'where': {'it': 0.5, 'there': 0.5},\n",
       " 'wanted': {'rather': 1.0},\n",
       " 'rather': {'END': 1.0},\n",
       " 'than': {'lack': 1.0},\n",
       " 'lack': {'it': 1.0},\n",
       " 'there': {'is': 1.0},\n",
       " 'is': {'such': 0.5, 'become': 0.5},\n",
       " 'such': {'abundance': 1.0},\n",
       " 'abundance': {'END': 1.0},\n",
       " 'properly': {'stays': 1.0},\n",
       " 'stays': {'me': 1.0},\n",
       " 'me': {'here': 1.0},\n",
       " 'here': {'at': 1.0},\n",
       " 'at': {'home': 1.0},\n",
       " 'home': {'unkept': 1.0},\n",
       " 'unkept': {'for': 1.0},\n",
       " 'for': {'call': 0.5, 'a': 0.5},\n",
       " 'call': {'you': 1.0},\n",
       " 'you': {'END': 1.0},\n",
       " 'that': {'keeping': 0.5, 'END': 0.5},\n",
       " 'keeping': {'for': 1.0},\n",
       " 'gentleman': {'of': 0.5, 'shes': 0.5},\n",
       " 'birth': {'that': 1.0},\n",
       " 'buckles': {'on': 1.0},\n",
       " 'on': {'his': 1.0},\n",
       " 'breast': {'reneges': 1.0},\n",
       " 'reneges': {'all': 1.0},\n",
       " 'all': {'temper': 0.5, 'END': 0.5},\n",
       " 'temper': {'END': 1.0},\n",
       " 'become': {'the': 1.0},\n",
       " 'bellows': {'and': 1.0},\n",
       " 'fan': {'END': 1.0},\n",
       " 'who': {'wanting': 1.0},\n",
       " 'wanting': {'guilders': 1.0},\n",
       " 'guilders': {'to': 1.0},\n",
       " 'redeem': {'their': 1.0},\n",
       " 'their': {'lives': 0.5, 'bloods': 0.5},\n",
       " 'lives': {'END': 1.0},\n",
       " 'seald': {'his': 1.0},\n",
       " 'rigorous': {'statutes': 1.0},\n",
       " 'statutes': {'with': 1.0},\n",
       " 'bloods': {'END': 1.0},\n",
       " 'ist': {'a': 1.0},\n",
       " 'verdict': {'END': 1.0},\n",
       " 'no': {'more': 1.0},\n",
       " 'more': {'talking': 1.0},\n",
       " 'talking': {'ont': 1.0},\n",
       " 'ont': {'let': 1.0},\n",
       " 'let': {'it': 1.0},\n",
       " 'be': {'done': 1.0},\n",
       " 'done': {'away': 1.0},\n",
       " 'away': {'away': 0.5, 'END': 0.5},\n",
       " 'unto': {'a': 1.0},\n",
       " 'poor': {'but': 1.0},\n",
       " 'but': {'worthy': 1.0},\n",
       " 'worthy': {'gentleman': 1.0},\n",
       " 'shes': {'wedded': 1.0},\n",
       " 'wedded': {'END': 1.0},\n",
       " 'husband': {'banishd': 1.0},\n",
       " 'banishd': {'she': 1.0},\n",
       " 'she': {'imprisond': 1.0},\n",
       " 'imprisond': {'all': 1.0}}"
      ]
     },
     "execution_count": 12,
     "metadata": {},
     "output_type": "execute_result"
    }
   ],
   "source": [
    "transition_probability"
   ]
  },
  {
   "cell_type": "code",
   "execution_count": 13,
   "metadata": {},
   "outputs": [
    {
     "data": {
      "text/plain": [
       "0.05"
      ]
     },
     "execution_count": 13,
     "metadata": {},
     "output_type": "execute_result"
    }
   ],
   "source": [
    "# probability of initial words \n",
    "\n",
    "start_word_probability['nor']"
   ]
  },
  {
   "cell_type": "code",
   "execution_count": 14,
   "metadata": {},
   "outputs": [],
   "source": [
    "tlength = 0\n",
    "for tokensPerSentence in tokens:\n",
    " #print(tokensPerSentence)\n",
    " tlength = tlength + len(tokensPerSentence)"
   ]
  },
  {
   "cell_type": "code",
   "execution_count": 15,
   "metadata": {},
   "outputs": [
    {
     "data": {
      "text/plain": [
       "154"
      ]
     },
     "execution_count": 15,
     "metadata": {},
     "output_type": "execute_result"
    }
   ],
   "source": [
    "# total number of tokens generated hence the hidden states\n",
    "tlength"
   ]
  },
  {
   "cell_type": "markdown",
   "metadata": {},
   "source": [
    "Emission probability"
   ]
  },
  {
   "cell_type": "markdown",
   "metadata": {},
   "source": [
    "For emission probability, we have considered plays for each playerline. Hidden states are the tokens generated from text-corpus"
   ]
  },
  {
   "cell_type": "code",
   "execution_count": 16,
   "metadata": {},
   "outputs": [],
   "source": [
    "import re\n",
    "\n",
    "def findWholeWord(w):\n",
    "    return re.compile(r'\\b({0})\\b'.format(w), flags=re.IGNORECASE).search\n"
   ]
  },
  {
   "cell_type": "code",
   "execution_count": 17,
   "metadata": {},
   "outputs": [],
   "source": [
    "states=[]\n",
    "for i in tokens:\n",
    "    for j in i:\n",
    "        states.append(j)\n",
    "states = set(states)\n",
    "#states"
   ]
  },
  {
   "cell_type": "code",
   "execution_count": 18,
   "metadata": {},
   "outputs": [],
   "source": [
    "observations = []#ALl plays\n",
    "emission_probability = {}\n",
    "for i in states:\n",
    "   for lines in playerLines:\n",
    "     for sentence in lines.PlayerLine:\n",
    "       if findWholeWord(i)(sentence.translate(str.maketrans('','', string.punctuation))) != None :\n",
    "         playl = lines.Play.unique()\n",
    "         observations.append(playl[0])\n",
    "         addingTextInDictionary(emission_probability, i, playl[0])\n",
    "observations = set(observations)\n",
    "observations = tuple(observations)"
   ]
  },
  {
   "cell_type": "code",
   "execution_count": 19,
   "metadata": {},
   "outputs": [],
   "source": [
    "dictWithProbability = {}\n",
    "for prev_word,word in emission_probability.items():\n",
    "  dictWithProbability = {}\n",
    "  total = len(word) #total next words for a token\n",
    "  for item in word:\n",
    "   dictWithProbability[item] = dictWithProbability.get(item,0) + 1\n",
    "  for key,value in dictWithProbability.items():\n",
    "   dictWithProbability[key] = value / total\n",
    "  emission_probability[prev_word] = dictWithProbability\n"
   ]
  },
  {
   "cell_type": "code",
   "execution_count": 20,
   "metadata": {},
   "outputs": [
    {
     "name": "stdout",
     "output_type": "stream",
     "text": [
      "{'away': {'Coriolanus': 1.0, 'A Comedy of Errors': 0.0, 'Henry IV': 0.0, 'Alls well that ends well': 0.0, 'Henry VI Part 1': 0.0, 'Cymbeline': 0.0, 'Henry VI Part 2': 0.0, 'As you like it': 0.0, 'Antony and Cleopatra': 0.0, 'Henry VI Part 3': 0.0}, 'earls': {'Henry VI Part 2': 1.0, 'A Comedy of Errors': 0.0, 'Henry IV': 0.0, 'Alls well that ends well': 0.0, 'Henry VI Part 1': 0.0, 'Cymbeline': 0.0, 'As you like it': 0.0, 'Antony and Cleopatra': 0.0, 'Henry VI Part 3': 0.0, 'Coriolanus': 0.0}, 'become': {'Antony and Cleopatra': 1.0, 'A Comedy of Errors': 0.0, 'Henry IV': 0.0, 'Alls well that ends well': 0.0, 'Henry VI Part 1': 0.0, 'Cymbeline': 0.0, 'Henry VI Part 2': 0.0, 'As you like it': 0.0, 'Henry VI Part 3': 0.0, 'Coriolanus': 0.0}, 'all': {'Antony and Cleopatra': 0.5, 'Cymbeline': 0.5, 'A Comedy of Errors': 0.0, 'Henry IV': 0.0, 'Alls well that ends well': 0.0, 'Henry VI Part 1': 0.0, 'Henry VI Part 2': 0.0, 'As you like it': 0.0, 'Henry VI Part 3': 0.0, 'Coriolanus': 0.0}, 'you': {'As you like it': 1.0, 'A Comedy of Errors': 0.0, 'Henry IV': 0.0, 'Alls well that ends well': 0.0, 'Henry VI Part 1': 0.0, 'Cymbeline': 0.0, 'Henry VI Part 2': 0.0, 'Antony and Cleopatra': 0.0, 'Henry VI Part 3': 0.0, 'Coriolanus': 0.0}, 'i': {'Henry VI Part 2': 1.0, 'A Comedy of Errors': 0.0, 'Henry IV': 0.0, 'Alls well that ends well': 0.0, 'Henry VI Part 1': 0.0, 'Cymbeline': 0.0, 'As you like it': 0.0, 'Antony and Cleopatra': 0.0, 'Henry VI Part 3': 0.0, 'Coriolanus': 0.0}, 'bloods': {'A Comedy of Errors': 1.0, 'Henry IV': 0.0, 'Alls well that ends well': 0.0, 'Henry VI Part 1': 0.0, 'Cymbeline': 0.0, 'Henry VI Part 2': 0.0, 'As you like it': 0.0, 'Antony and Cleopatra': 0.0, 'Henry VI Part 3': 0.0, 'Coriolanus': 0.0}, 'abundance': {'Alls well that ends well': 1.0, 'A Comedy of Errors': 0.0, 'Henry IV': 0.0, 'Henry VI Part 1': 0.0, 'Cymbeline': 0.0, 'Henry VI Part 2': 0.0, 'As you like it': 0.0, 'Antony and Cleopatra': 0.0, 'Henry VI Part 3': 0.0, 'Coriolanus': 0.0}, 'is': {'Alls well that ends well': 0.5, 'Antony and Cleopatra': 0.5, 'A Comedy of Errors': 0.0, 'Henry IV': 0.0, 'Henry VI Part 1': 0.0, 'Cymbeline': 0.0, 'Henry VI Part 2': 0.0, 'As you like it': 0.0, 'Henry VI Part 3': 0.0, 'Coriolanus': 0.0}, 'for': {'As you like it': 1.0, 'A Comedy of Errors': 0.0, 'Henry IV': 0.0, 'Alls well that ends well': 0.0, 'Henry VI Part 1': 0.0, 'Cymbeline': 0.0, 'Henry VI Part 2': 0.0, 'Antony and Cleopatra': 0.0, 'Henry VI Part 3': 0.0, 'Coriolanus': 0.0}, 'wedded': {'Cymbeline': 1.0, 'A Comedy of Errors': 0.0, 'Henry IV': 0.0, 'Alls well that ends well': 0.0, 'Henry VI Part 1': 0.0, 'Henry VI Part 2': 0.0, 'As you like it': 0.0, 'Antony and Cleopatra': 0.0, 'Henry VI Part 3': 0.0, 'Coriolanus': 0.0}, 'reneges': {'Antony and Cleopatra': 1.0, 'A Comedy of Errors': 0.0, 'Henry IV': 0.0, 'Alls well that ends well': 0.0, 'Henry VI Part 1': 0.0, 'Cymbeline': 0.0, 'Henry VI Part 2': 0.0, 'As you like it': 0.0, 'Henry VI Part 3': 0.0, 'Coriolanus': 0.0}, 'opposed': {'Henry IV': 1.0, 'A Comedy of Errors': 0.0, 'Alls well that ends well': 0.0, 'Henry VI Part 1': 0.0, 'Cymbeline': 0.0, 'Henry VI Part 2': 0.0, 'As you like it': 0.0, 'Antony and Cleopatra': 0.0, 'Henry VI Part 3': 0.0, 'Coriolanus': 0.0}, 'seald': {'A Comedy of Errors': 1.0, 'Henry IV': 0.0, 'Alls well that ends well': 0.0, 'Henry VI Part 1': 0.0, 'Cymbeline': 0.0, 'Henry VI Part 2': 0.0, 'As you like it': 0.0, 'Antony and Cleopatra': 0.0, 'Henry VI Part 3': 0.0, 'Coriolanus': 0.0}, 'main': {'Henry VI Part 3': 1.0, 'A Comedy of Errors': 0.0, 'Henry IV': 0.0, 'Alls well that ends well': 0.0, 'Henry VI Part 1': 0.0, 'Cymbeline': 0.0, 'Henry VI Part 2': 0.0, 'As you like it': 0.0, 'Antony and Cleopatra': 0.0, 'Coriolanus': 0.0}, 'redeem': {'A Comedy of Errors': 1.0, 'Henry IV': 0.0, 'Alls well that ends well': 0.0, 'Henry VI Part 1': 0.0, 'Cymbeline': 0.0, 'Henry VI Part 2': 0.0, 'As you like it': 0.0, 'Antony and Cleopatra': 0.0, 'Henry VI Part 3': 0.0, 'Coriolanus': 0.0}, 'properly': {'As you like it': 1.0, 'A Comedy of Errors': 0.0, 'Henry IV': 0.0, 'Alls well that ends well': 0.0, 'Henry VI Part 1': 0.0, 'Cymbeline': 0.0, 'Henry VI Part 2': 0.0, 'Antony and Cleopatra': 0.0, 'Henry VI Part 3': 0.0, 'Coriolanus': 0.0}, 'those': {'Henry IV': 1.0, 'A Comedy of Errors': 0.0, 'Alls well that ends well': 0.0, 'Henry VI Part 1': 0.0, 'Cymbeline': 0.0, 'Henry VI Part 2': 0.0, 'As you like it': 0.0, 'Antony and Cleopatra': 0.0, 'Henry VI Part 3': 0.0, 'Coriolanus': 0.0}, 'common': {'Henry VI Part 3': 1.0, 'A Comedy of Errors': 0.0, 'Henry IV': 0.0, 'Alls well that ends well': 0.0, 'Henry VI Part 1': 0.0, 'Cymbeline': 0.0, 'Henry VI Part 2': 0.0, 'As you like it': 0.0, 'Antony and Cleopatra': 0.0, 'Coriolanus': 0.0}, 'on': {'Antony and Cleopatra': 1.0, 'A Comedy of Errors': 0.0, 'Henry IV': 0.0, 'Alls well that ends well': 0.0, 'Henry VI Part 1': 0.0, 'Cymbeline': 0.0, 'Henry VI Part 2': 0.0, 'As you like it': 0.0, 'Henry VI Part 3': 0.0, 'Coriolanus': 0.0}, 'done': {'Coriolanus': 1.0, 'A Comedy of Errors': 0.0, 'Henry IV': 0.0, 'Alls well that ends well': 0.0, 'Henry VI Part 1': 0.0, 'Cymbeline': 0.0, 'Henry VI Part 2': 0.0, 'As you like it': 0.0, 'Antony and Cleopatra': 0.0, 'Henry VI Part 3': 0.0}, 'his': {'Henry VI Part 1': 0.3333333333333333, 'Antony and Cleopatra': 0.3333333333333333, 'A Comedy of Errors': 0.3333333333333333, 'Henry IV': 0.0, 'Alls well that ends well': 0.0, 'Cymbeline': 0.0, 'Henry VI Part 2': 0.0, 'As you like it': 0.0, 'Henry VI Part 3': 0.0, 'Coriolanus': 0.0}, 'barons': {'Henry VI Part 2': 1.0, 'A Comedy of Errors': 0.0, 'Henry IV': 0.0, 'Alls well that ends well': 0.0, 'Henry VI Part 1': 0.0, 'Cymbeline': 0.0, 'As you like it': 0.0, 'Antony and Cleopatra': 0.0, 'Henry VI Part 3': 0.0, 'Coriolanus': 0.0}, 'twenty': {'Henry VI Part 2': 1.0, 'A Comedy of Errors': 0.0, 'Henry IV': 0.0, 'Alls well that ends well': 0.0, 'Henry VI Part 1': 0.0, 'Cymbeline': 0.0, 'As you like it': 0.0, 'Antony and Cleopatra': 0.0, 'Henry VI Part 3': 0.0, 'Coriolanus': 0.0}, 'was': {'Henry VI Part 2': 1.0, 'A Comedy of Errors': 0.0, 'Henry IV': 0.0, 'Alls well that ends well': 0.0, 'Henry VI Part 1': 0.0, 'Cymbeline': 0.0, 'As you like it': 0.0, 'Antony and Cleopatra': 0.0, 'Henry VI Part 3': 0.0, 'Coriolanus': 0.0}, 'reverend': {'Henry VI Part 2': 1.0, 'A Comedy of Errors': 0.0, 'Henry IV': 0.0, 'Alls well that ends well': 0.0, 'Henry VI Part 1': 0.0, 'Cymbeline': 0.0, 'As you like it': 0.0, 'Antony and Cleopatra': 0.0, 'Henry VI Part 3': 0.0, 'Coriolanus': 0.0}, 'bellows': {'Antony and Cleopatra': 1.0, 'A Comedy of Errors': 0.0, 'Henry IV': 0.0, 'Alls well that ends well': 0.0, 'Henry VI Part 1': 0.0, 'Cymbeline': 0.0, 'Henry VI Part 2': 0.0, 'As you like it': 0.0, 'Henry VI Part 3': 0.0, 'Coriolanus': 0.0}, 'such': {'Alls well that ends well': 1.0, 'A Comedy of Errors': 0.0, 'Henry IV': 0.0, 'Henry VI Part 1': 0.0, 'Cymbeline': 0.0, 'Henry VI Part 2': 0.0, 'As you like it': 0.0, 'Antony and Cleopatra': 0.0, 'Henry VI Part 3': 0.0, 'Coriolanus': 0.0}, 'temper': {'Antony and Cleopatra': 1.0, 'A Comedy of Errors': 0.0, 'Henry IV': 0.0, 'Alls well that ends well': 0.0, 'Henry VI Part 1': 0.0, 'Cymbeline': 0.0, 'Henry VI Part 2': 0.0, 'As you like it': 0.0, 'Henry VI Part 3': 0.0, 'Coriolanus': 0.0}, 'fan': {'Antony and Cleopatra': 1.0, 'A Comedy of Errors': 0.0, 'Henry IV': 0.0, 'Alls well that ends well': 0.0, 'Henry VI Part 1': 0.0, 'Cymbeline': 0.0, 'Henry VI Part 2': 0.0, 'As you like it': 0.0, 'Henry VI Part 3': 0.0, 'Coriolanus': 0.0}, 'ist': {'Coriolanus': 1.0, 'A Comedy of Errors': 0.0, 'Henry IV': 0.0, 'Alls well that ends well': 0.0, 'Henry VI Part 1': 0.0, 'Cymbeline': 0.0, 'Henry VI Part 2': 0.0, 'As you like it': 0.0, 'Antony and Cleopatra': 0.0, 'Henry VI Part 3': 0.0}, 'gentleman': {'As you like it': 0.5, 'Cymbeline': 0.5, 'A Comedy of Errors': 0.0, 'Henry IV': 0.0, 'Alls well that ends well': 0.0, 'Henry VI Part 1': 0.0, 'Henry VI Part 2': 0.0, 'Antony and Cleopatra': 0.0, 'Henry VI Part 3': 0.0, 'Coriolanus': 0.0}, 'armed': {'Henry IV': 1.0, 'A Comedy of Errors': 0.0, 'Alls well that ends well': 0.0, 'Henry VI Part 1': 0.0, 'Cymbeline': 0.0, 'Henry VI Part 2': 0.0, 'As you like it': 0.0, 'Antony and Cleopatra': 0.0, 'Henry VI Part 3': 0.0, 'Coriolanus': 0.0}, 'but': {'Cymbeline': 1.0, 'A Comedy of Errors': 0.0, 'Henry IV': 0.0, 'Alls well that ends well': 0.0, 'Henry VI Part 1': 0.0, 'Henry VI Part 2': 0.0, 'As you like it': 0.0, 'Antony and Cleopatra': 0.0, 'Henry VI Part 3': 0.0, 'Coriolanus': 0.0}, 'rather': {'Alls well that ends well': 1.0, 'A Comedy of Errors': 0.0, 'Henry IV': 0.0, 'Henry VI Part 1': 0.0, 'Cymbeline': 0.0, 'Henry VI Part 2': 0.0, 'As you like it': 0.0, 'Antony and Cleopatra': 0.0, 'Henry VI Part 3': 0.0, 'Coriolanus': 0.0}, 'more': {'Coriolanus': 1.0, 'A Comedy of Errors': 0.0, 'Henry IV': 0.0, 'Alls well that ends well': 0.0, 'Henry VI Part 1': 0.0, 'Cymbeline': 0.0, 'Henry VI Part 2': 0.0, 'As you like it': 0.0, 'Antony and Cleopatra': 0.0, 'Henry VI Part 3': 0.0}, 'hostile': {'Henry IV': 1.0, 'A Comedy of Errors': 0.0, 'Alls well that ends well': 0.0, 'Henry VI Part 1': 0.0, 'Cymbeline': 0.0, 'Henry VI Part 2': 0.0, 'As you like it': 0.0, 'Antony and Cleopatra': 0.0, 'Henry VI Part 3': 0.0, 'Coriolanus': 0.0}, 'banishd': {'Cymbeline': 1.0, 'A Comedy of Errors': 0.0, 'Henry IV': 0.0, 'Alls well that ends well': 0.0, 'Henry VI Part 1': 0.0, 'Henry VI Part 2': 0.0, 'As you like it': 0.0, 'Antony and Cleopatra': 0.0, 'Henry VI Part 3': 0.0, 'Coriolanus': 0.0}, 'and': {'Henry VI Part 2': 0.5, 'Henry VI Part 3': 0.25, 'Antony and Cleopatra': 0.25, 'A Comedy of Errors': 0.0, 'Henry IV': 0.0, 'Alls well that ends well': 0.0, 'Henry VI Part 1': 0.0, 'Cymbeline': 0.0, 'As you like it': 0.0, 'Coriolanus': 0.0}, 'buckles': {'Antony and Cleopatra': 1.0, 'A Comedy of Errors': 0.0, 'Henry IV': 0.0, 'Alls well that ends well': 0.0, 'Henry VI Part 1': 0.0, 'Cymbeline': 0.0, 'Henry VI Part 2': 0.0, 'As you like it': 0.0, 'Henry VI Part 3': 0.0, 'Coriolanus': 0.0}, 'lives': {'A Comedy of Errors': 1.0, 'Henry IV': 0.0, 'Alls well that ends well': 0.0, 'Henry VI Part 1': 0.0, 'Cymbeline': 0.0, 'Henry VI Part 2': 0.0, 'As you like it': 0.0, 'Antony and Cleopatra': 0.0, 'Henry VI Part 3': 0.0, 'Coriolanus': 0.0}, 'verdict': {'Coriolanus': 1.0, 'A Comedy of Errors': 0.0, 'Henry IV': 0.0, 'Alls well that ends well': 0.0, 'Henry VI Part 1': 0.0, 'Cymbeline': 0.0, 'Henry VI Part 2': 0.0, 'As you like it': 0.0, 'Antony and Cleopatra': 0.0, 'Henry VI Part 3': 0.0}, 'battles': {'Henry VI Part 3': 1.0, 'A Comedy of Errors': 0.0, 'Henry IV': 0.0, 'Alls well that ends well': 0.0, 'Henry VI Part 1': 0.0, 'Cymbeline': 0.0, 'Henry VI Part 2': 0.0, 'As you like it': 0.0, 'Antony and Cleopatra': 0.0, 'Coriolanus': 0.0}, 'me': {'As you like it': 1.0, 'A Comedy of Errors': 0.0, 'Henry IV': 0.0, 'Alls well that ends well': 0.0, 'Henry VI Part 1': 0.0, 'Cymbeline': 0.0, 'Henry VI Part 2': 0.0, 'Antony and Cleopatra': 0.0, 'Henry VI Part 3': 0.0, 'Coriolanus': 0.0}, 'command': {'Henry VI Part 1': 1.0, 'A Comedy of Errors': 0.0, 'Henry IV': 0.0, 'Alls well that ends well': 0.0, 'Cymbeline': 0.0, 'Henry VI Part 2': 0.0, 'As you like it': 0.0, 'Antony and Cleopatra': 0.0, 'Henry VI Part 3': 0.0, 'Coriolanus': 0.0}, 'wanting': {'A Comedy of Errors': 1.0, 'Henry IV': 0.0, 'Alls well that ends well': 0.0, 'Henry VI Part 1': 0.0, 'Cymbeline': 0.0, 'Henry VI Part 2': 0.0, 'As you like it': 0.0, 'Antony and Cleopatra': 0.0, 'Henry VI Part 3': 0.0, 'Coriolanus': 0.0}, 'england': {'Henry VI Part 1': 1.0, 'A Comedy of Errors': 0.0, 'Henry IV': 0.0, 'Alls well that ends well': 0.0, 'Cymbeline': 0.0, 'Henry VI Part 2': 0.0, 'As you like it': 0.0, 'Antony and Cleopatra': 0.0, 'Henry VI Part 3': 0.0, 'Coriolanus': 0.0}, 'stays': {'As you like it': 1.0, 'A Comedy of Errors': 0.0, 'Henry IV': 0.0, 'Alls well that ends well': 0.0, 'Henry VI Part 1': 0.0, 'Cymbeline': 0.0, 'Henry VI Part 2': 0.0, 'Antony and Cleopatra': 0.0, 'Henry VI Part 3': 0.0, 'Coriolanus': 0.0}, 'my': {'Henry VI Part 2': 0.5, 'As you like it': 0.5, 'A Comedy of Errors': 0.0, 'Henry IV': 0.0, 'Alls well that ends well': 0.0, 'Henry VI Part 1': 0.0, 'Cymbeline': 0.0, 'Antony and Cleopatra': 0.0, 'Henry VI Part 3': 0.0, 'Coriolanus': 0.0}, 'worthiness': {'Alls well that ends well': 1.0, 'A Comedy of Errors': 0.0, 'Henry IV': 0.0, 'Henry VI Part 1': 0.0, 'Cymbeline': 0.0, 'Henry VI Part 2': 0.0, 'As you like it': 0.0, 'Antony and Cleopatra': 0.0, 'Henry VI Part 3': 0.0, 'Coriolanus': 0.0}, 'shes': {'Cymbeline': 1.0, 'A Comedy of Errors': 0.0, 'Henry IV': 0.0, 'Alls well that ends well': 0.0, 'Henry VI Part 1': 0.0, 'Henry VI Part 2': 0.0, 'As you like it': 0.0, 'Antony and Cleopatra': 0.0, 'Henry VI Part 3': 0.0, 'Coriolanus': 0.0}, 'hoofs': {'Henry IV': 1.0, 'A Comedy of Errors': 0.0, 'Alls well that ends well': 0.0, 'Henry VI Part 1': 0.0, 'Cymbeline': 0.0, 'Henry VI Part 2': 0.0, 'As you like it': 0.0, 'Antony and Cleopatra': 0.0, 'Henry VI Part 3': 0.0, 'Coriolanus': 0.0}, 'no': {'Coriolanus': 1.0, 'A Comedy of Errors': 0.0, 'Henry IV': 0.0, 'Alls well that ends well': 0.0, 'Henry VI Part 1': 0.0, 'Cymbeline': 0.0, 'Henry VI Part 2': 0.0, 'As you like it': 0.0, 'Antony and Cleopatra': 0.0, 'Henry VI Part 3': 0.0}, 'our': {'Henry VI Part 3': 1.0, 'A Comedy of Errors': 0.0, 'Henry IV': 0.0, 'Alls well that ends well': 0.0, 'Henry VI Part 1': 0.0, 'Cymbeline': 0.0, 'Henry VI Part 2': 0.0, 'As you like it': 0.0, 'Antony and Cleopatra': 0.0, 'Coriolanus': 0.0}, 'here': {'As you like it': 1.0, 'A Comedy of Errors': 0.0, 'Henry IV': 0.0, 'Alls well that ends well': 0.0, 'Henry VI Part 1': 0.0, 'Cymbeline': 0.0, 'Henry VI Part 2': 0.0, 'Antony and Cleopatra': 0.0, 'Henry VI Part 3': 0.0, 'Coriolanus': 0.0}, 'who': {'A Comedy of Errors': 1.0, 'Henry IV': 0.0, 'Alls well that ends well': 0.0, 'Henry VI Part 1': 0.0, 'Cymbeline': 0.0, 'Henry VI Part 2': 0.0, 'As you like it': 0.0, 'Antony and Cleopatra': 0.0, 'Henry VI Part 3': 0.0, 'Coriolanus': 0.0}, 'home': {'As you like it': 1.0, 'A Comedy of Errors': 0.0, 'Henry IV': 0.0, 'Alls well that ends well': 0.0, 'Henry VI Part 1': 0.0, 'Cymbeline': 0.0, 'Henry VI Part 2': 0.0, 'Antony and Cleopatra': 0.0, 'Henry VI Part 3': 0.0, 'Coriolanus': 0.0}, 'would': {'Alls well that ends well': 1.0, 'A Comedy of Errors': 0.0, 'Henry IV': 0.0, 'Henry VI Part 1': 0.0, 'Cymbeline': 0.0, 'Henry VI Part 2': 0.0, 'As you like it': 0.0, 'Antony and Cleopatra': 0.0, 'Henry VI Part 3': 0.0, 'Coriolanus': 0.0}, 'deserving': {'Henry VI Part 1': 1.0, 'A Comedy of Errors': 0.0, 'Henry IV': 0.0, 'Alls well that ends well': 0.0, 'Cymbeline': 0.0, 'Henry VI Part 2': 0.0, 'As you like it': 0.0, 'Antony and Cleopatra': 0.0, 'Henry VI Part 3': 0.0, 'Coriolanus': 0.0}, 'charged': {'Henry VI Part 3': 1.0, 'A Comedy of Errors': 0.0, 'Henry IV': 0.0, 'Alls well that ends well': 0.0, 'Henry VI Part 1': 0.0, 'Cymbeline': 0.0, 'Henry VI Part 2': 0.0, 'As you like it': 0.0, 'Antony and Cleopatra': 0.0, 'Coriolanus': 0.0}, 'that': {'As you like it': 1.0, 'A Comedy of Errors': 0.0, 'Henry IV': 0.0, 'Alls well that ends well': 0.0, 'Henry VI Part 1': 0.0, 'Cymbeline': 0.0, 'Henry VI Part 2': 0.0, 'Antony and Cleopatra': 0.0, 'Henry VI Part 3': 0.0, 'Coriolanus': 0.0}, 'her': {'Henry IV': 0.5, 'Cymbeline': 0.5, 'A Comedy of Errors': 0.0, 'Alls well that ends well': 0.0, 'Henry VI Part 1': 0.0, 'Henry VI Part 2': 0.0, 'As you like it': 0.0, 'Antony and Cleopatra': 0.0, 'Henry VI Part 3': 0.0, 'Coriolanus': 0.0}, 'statutes': {'A Comedy of Errors': 1.0, 'Henry IV': 0.0, 'Alls well that ends well': 0.0, 'Henry VI Part 1': 0.0, 'Cymbeline': 0.0, 'Henry VI Part 2': 0.0, 'As you like it': 0.0, 'Antony and Cleopatra': 0.0, 'Henry VI Part 3': 0.0, 'Coriolanus': 0.0}, 'let': {'Coriolanus': 1.0, 'A Comedy of Errors': 0.0, 'Henry IV': 0.0, 'Alls well that ends well': 0.0, 'Henry VI Part 1': 0.0, 'Cymbeline': 0.0, 'Henry VI Part 2': 0.0, 'As you like it': 0.0, 'Antony and Cleopatra': 0.0, 'Henry VI Part 3': 0.0}, 'unkept': {'As you like it': 1.0, 'A Comedy of Errors': 0.0, 'Henry IV': 0.0, 'Alls well that ends well': 0.0, 'Henry VI Part 1': 0.0, 'Cymbeline': 0.0, 'Henry VI Part 2': 0.0, 'Antony and Cleopatra': 0.0, 'Henry VI Part 3': 0.0, 'Coriolanus': 0.0}, 'until': {'Henry VI Part 1': 1.0, 'A Comedy of Errors': 0.0, 'Henry IV': 0.0, 'Alls well that ends well': 0.0, 'Cymbeline': 0.0, 'Henry VI Part 2': 0.0, 'As you like it': 0.0, 'Antony and Cleopatra': 0.0, 'Henry VI Part 3': 0.0, 'Coriolanus': 0.0}, 'in': {'Henry VI Part 3': 1.0, 'A Comedy of Errors': 0.0, 'Henry IV': 0.0, 'Alls well that ends well': 0.0, 'Henry VI Part 1': 0.0, 'Cymbeline': 0.0, 'Henry VI Part 2': 0.0, 'As you like it': 0.0, 'Antony and Cleopatra': 0.0, 'Coriolanus': 0.0}, 'there': {'Alls well that ends well': 1.0, 'A Comedy of Errors': 0.0, 'Henry IV': 0.0, 'Henry VI Part 1': 0.0, 'Cymbeline': 0.0, 'Henry VI Part 2': 0.0, 'As you like it': 0.0, 'Antony and Cleopatra': 0.0, 'Henry VI Part 3': 0.0, 'Coriolanus': 0.0}, 'it': {'Alls well that ends well': 0.6666666666666666, 'Coriolanus': 0.3333333333333333, 'A Comedy of Errors': 0.0, 'Henry IV': 0.0, 'Henry VI Part 1': 0.0, 'Cymbeline': 0.0, 'Henry VI Part 2': 0.0, 'As you like it': 0.0, 'Antony and Cleopatra': 0.0, 'Henry VI Part 3': 0.0}, 'stir': {'Alls well that ends well': 1.0, 'A Comedy of Errors': 0.0, 'Henry IV': 0.0, 'Henry VI Part 1': 0.0, 'Cymbeline': 0.0, 'Henry VI Part 2': 0.0, 'As you like it': 0.0, 'Antony and Cleopatra': 0.0, 'Henry VI Part 3': 0.0, 'Coriolanus': 0.0}, 'had': {'Henry VI Part 1': 1.0, 'A Comedy of Errors': 0.0, 'Henry IV': 0.0, 'Alls well that ends well': 0.0, 'Cymbeline': 0.0, 'Henry VI Part 2': 0.0, 'As you like it': 0.0, 'Antony and Cleopatra': 0.0, 'Henry VI Part 3': 0.0, 'Coriolanus': 0.0}, 'have': {'Henry VI Part 2': 0.5, 'A Comedy of Errors': 0.5, 'Henry IV': 0.0, 'Alls well that ends well': 0.0, 'Henry VI Part 1': 0.0, 'Cymbeline': 0.0, 'As you like it': 0.0, 'Antony and Cleopatra': 0.0, 'Henry VI Part 3': 0.0, 'Coriolanus': 0.0}, 'to': {'Henry VI Part 1': 0.5, 'A Comedy of Errors': 0.5, 'Henry IV': 0.0, 'Alls well that ends well': 0.0, 'Cymbeline': 0.0, 'Henry VI Part 2': 0.0, 'As you like it': 0.0, 'Antony and Cleopatra': 0.0, 'Henry VI Part 3': 0.0, 'Coriolanus': 0.0}, 'wanted': {'Alls well that ends well': 1.0, 'A Comedy of Errors': 0.0, 'Henry IV': 0.0, 'Henry VI Part 1': 0.0, 'Cymbeline': 0.0, 'Henry VI Part 2': 0.0, 'As you like it': 0.0, 'Antony and Cleopatra': 0.0, 'Henry VI Part 3': 0.0, 'Coriolanus': 0.0}, 'eyes': {'Henry IV': 1.0, 'A Comedy of Errors': 0.0, 'Alls well that ends well': 0.0, 'Henry VI Part 1': 0.0, 'Cymbeline': 0.0, 'Henry VI Part 2': 0.0, 'As you like it': 0.0, 'Antony and Cleopatra': 0.0, 'Henry VI Part 3': 0.0, 'Coriolanus': 0.0}, 'breast': {'Antony and Cleopatra': 1.0, 'A Comedy of Errors': 0.0, 'Henry IV': 0.0, 'Alls well that ends well': 0.0, 'Henry VI Part 1': 0.0, 'Cymbeline': 0.0, 'Henry VI Part 2': 0.0, 'As you like it': 0.0, 'Henry VI Part 3': 0.0, 'Coriolanus': 0.0}, 'the': {'Henry IV': 0.25, 'Henry VI Part 3': 0.25, 'Antony and Cleopatra': 0.5, 'A Comedy of Errors': 0.0, 'Alls well that ends well': 0.0, 'Henry VI Part 1': 0.0, 'Cymbeline': 0.0, 'Henry VI Part 2': 0.0, 'As you like it': 0.0, 'Coriolanus': 0.0}, 'paces': {'Henry IV': 1.0, 'A Comedy of Errors': 0.0, 'Alls well that ends well': 0.0, 'Henry VI Part 1': 0.0, 'Cymbeline': 0.0, 'Henry VI Part 2': 0.0, 'As you like it': 0.0, 'Antony and Cleopatra': 0.0, 'Henry VI Part 3': 0.0, 'Coriolanus': 0.0}, 'espoused': {'Henry VI Part 2': 1.0, 'A Comedy of Errors': 0.0, 'Henry IV': 0.0, 'Alls well that ends well': 0.0, 'Henry VI Part 1': 0.0, 'Cymbeline': 0.0, 'As you like it': 0.0, 'Antony and Cleopatra': 0.0, 'Henry VI Part 3': 0.0, 'Coriolanus': 0.0}, 'talking': {'Coriolanus': 1.0, 'A Comedy of Errors': 0.0, 'Henry IV': 0.0, 'Alls well that ends well': 0.0, 'Henry VI Part 1': 0.0, 'Cymbeline': 0.0, 'Henry VI Part 2': 0.0, 'As you like it': 0.0, 'Antony and Cleopatra': 0.0, 'Henry VI Part 3': 0.0}, 'with': {'Henry IV': 0.5, 'A Comedy of Errors': 0.5, 'Alls well that ends well': 0.0, 'Henry VI Part 1': 0.0, 'Cymbeline': 0.0, 'Henry VI Part 2': 0.0, 'As you like it': 0.0, 'Antony and Cleopatra': 0.0, 'Henry VI Part 3': 0.0, 'Coriolanus': 0.0}, 'virtue': {'Henry VI Part 1': 1.0, 'A Comedy of Errors': 0.0, 'Henry IV': 0.0, 'Alls well that ends well': 0.0, 'Cymbeline': 0.0, 'Henry VI Part 2': 0.0, 'As you like it': 0.0, 'Antony and Cleopatra': 0.0, 'Henry VI Part 3': 0.0, 'Coriolanus': 0.0}, 'time': {'Henry VI Part 1': 1.0, 'A Comedy of Errors': 0.0, 'Henry IV': 0.0, 'Alls well that ends well': 0.0, 'Cymbeline': 0.0, 'Henry VI Part 2': 0.0, 'As you like it': 0.0, 'Antony and Cleopatra': 0.0, 'Henry VI Part 3': 0.0, 'Coriolanus': 0.0}, 'lack': {'Alls well that ends well': 1.0, 'A Comedy of Errors': 0.0, 'Henry IV': 0.0, 'Henry VI Part 1': 0.0, 'Cymbeline': 0.0, 'Henry VI Part 2': 0.0, 'As you like it': 0.0, 'Antony and Cleopatra': 0.0, 'Henry VI Part 3': 0.0, 'Coriolanus': 0.0}, 'slain': {'Henry VI Part 3': 1.0, 'A Comedy of Errors': 0.0, 'Henry IV': 0.0, 'Alls well that ends well': 0.0, 'Henry VI Part 1': 0.0, 'Cymbeline': 0.0, 'Henry VI Part 2': 0.0, 'As you like it': 0.0, 'Antony and Cleopatra': 0.0, 'Coriolanus': 0.0}, 'husband': {'Cymbeline': 1.0, 'A Comedy of Errors': 0.0, 'Henry IV': 0.0, 'Alls well that ends well': 0.0, 'Henry VI Part 1': 0.0, 'Henry VI Part 2': 0.0, 'As you like it': 0.0, 'Antony and Cleopatra': 0.0, 'Henry VI Part 3': 0.0, 'Coriolanus': 0.0}, 'than': {'Alls well that ends well': 1.0, 'A Comedy of Errors': 0.0, 'Henry IV': 0.0, 'Henry VI Part 1': 0.0, 'Cymbeline': 0.0, 'Henry VI Part 2': 0.0, 'As you like it': 0.0, 'Antony and Cleopatra': 0.0, 'Henry VI Part 3': 0.0, 'Coriolanus': 0.0}, 'ont': {'Coriolanus': 1.0, 'A Comedy of Errors': 0.0, 'Henry IV': 0.0, 'Alls well that ends well': 0.0, 'Henry VI Part 1': 0.0, 'Cymbeline': 0.0, 'Henry VI Part 2': 0.0, 'As you like it': 0.0, 'Antony and Cleopatra': 0.0, 'Henry VI Part 3': 0.0}, 'imprisond': {'Cymbeline': 1.0, 'A Comedy of Errors': 0.0, 'Henry IV': 0.0, 'Alls well that ends well': 0.0, 'Henry VI Part 1': 0.0, 'Henry VI Part 2': 0.0, 'As you like it': 0.0, 'Antony and Cleopatra': 0.0, 'Henry VI Part 3': 0.0, 'Coriolanus': 0.0}, 'he': {'Henry VI Part 1': 1.0, 'A Comedy of Errors': 0.0, 'Henry IV': 0.0, 'Alls well that ends well': 0.0, 'Cymbeline': 0.0, 'Henry VI Part 2': 0.0, 'As you like it': 0.0, 'Antony and Cleopatra': 0.0, 'Henry VI Part 3': 0.0, 'Coriolanus': 0.0}, 'rigorous': {'A Comedy of Errors': 1.0, 'Henry IV': 0.0, 'Alls well that ends well': 0.0, 'Henry VI Part 1': 0.0, 'Cymbeline': 0.0, 'Henry VI Part 2': 0.0, 'As you like it': 0.0, 'Antony and Cleopatra': 0.0, 'Henry VI Part 3': 0.0, 'Coriolanus': 0.0}, 'were': {'Henry VI Part 3': 1.0, 'A Comedy of Errors': 0.0, 'Henry IV': 0.0, 'Alls well that ends well': 0.0, 'Henry VI Part 1': 0.0, 'Cymbeline': 0.0, 'Henry VI Part 2': 0.0, 'As you like it': 0.0, 'Antony and Cleopatra': 0.0, 'Coriolanus': 0.0}, 'king': {'Henry VI Part 1': 1.0, 'A Comedy of Errors': 0.0, 'Henry IV': 0.0, 'Alls well that ends well': 0.0, 'Cymbeline': 0.0, 'Henry VI Part 2': 0.0, 'As you like it': 0.0, 'Antony and Cleopatra': 0.0, 'Henry VI Part 3': 0.0, 'Coriolanus': 0.0}, 'performd': {'Henry VI Part 2': 1.0, 'A Comedy of Errors': 0.0, 'Henry IV': 0.0, 'Alls well that ends well': 0.0, 'Henry VI Part 1': 0.0, 'Cymbeline': 0.0, 'As you like it': 0.0, 'Antony and Cleopatra': 0.0, 'Henry VI Part 3': 0.0, 'Coriolanus': 0.0}, 'twelve': {'Henry VI Part 2': 1.0, 'A Comedy of Errors': 0.0, 'Henry IV': 0.0, 'Alls well that ends well': 0.0, 'Henry VI Part 1': 0.0, 'Cymbeline': 0.0, 'As you like it': 0.0, 'Antony and Cleopatra': 0.0, 'Henry VI Part 3': 0.0, 'Coriolanus': 0.0}, 'poor': {'Cymbeline': 1.0, 'A Comedy of Errors': 0.0, 'Henry IV': 0.0, 'Alls well that ends well': 0.0, 'Henry VI Part 1': 0.0, 'Henry VI Part 2': 0.0, 'As you like it': 0.0, 'Antony and Cleopatra': 0.0, 'Henry VI Part 3': 0.0, 'Coriolanus': 0.0}, 'worthy': {'Cymbeline': 1.0, 'A Comedy of Errors': 0.0, 'Henry IV': 0.0, 'Alls well that ends well': 0.0, 'Henry VI Part 1': 0.0, 'Henry VI Part 2': 0.0, 'As you like it': 0.0, 'Antony and Cleopatra': 0.0, 'Henry VI Part 3': 0.0, 'Coriolanus': 0.0}, 'by': {'Henry VI Part 3': 1.0, 'A Comedy of Errors': 0.0, 'Henry IV': 0.0, 'Alls well that ends well': 0.0, 'Henry VI Part 1': 0.0, 'Cymbeline': 0.0, 'Henry VI Part 2': 0.0, 'As you like it': 0.0, 'Antony and Cleopatra': 0.0, 'Coriolanus': 0.0}, 'bishops': {'Henry VI Part 2': 1.0, 'A Comedy of Errors': 0.0, 'Henry IV': 0.0, 'Alls well that ends well': 0.0, 'Henry VI Part 1': 0.0, 'Cymbeline': 0.0, 'As you like it': 0.0, 'Antony and Cleopatra': 0.0, 'Henry VI Part 3': 0.0, 'Coriolanus': 0.0}, 'task': {'Henry VI Part 2': 1.0, 'A Comedy of Errors': 0.0, 'Henry IV': 0.0, 'Alls well that ends well': 0.0, 'Henry VI Part 1': 0.0, 'Cymbeline': 0.0, 'As you like it': 0.0, 'Antony and Cleopatra': 0.0, 'Henry VI Part 3': 0.0, 'Coriolanus': 0.0}, 'seven': {'Henry VI Part 2': 1.0, 'A Comedy of Errors': 0.0, 'Henry IV': 0.0, 'Alls well that ends well': 0.0, 'Henry VI Part 1': 0.0, 'Cymbeline': 0.0, 'As you like it': 0.0, 'Antony and Cleopatra': 0.0, 'Henry VI Part 3': 0.0, 'Coriolanus': 0.0}, 'soldiers': {'Henry VI Part 3': 1.0, 'A Comedy of Errors': 0.0, 'Henry IV': 0.0, 'Alls well that ends well': 0.0, 'Henry VI Part 1': 0.0, 'Cymbeline': 0.0, 'Henry VI Part 2': 0.0, 'As you like it': 0.0, 'Antony and Cleopatra': 0.0, 'Coriolanus': 0.0}, 'bruise': {'Henry IV': 1.0, 'A Comedy of Errors': 0.0, 'Alls well that ends well': 0.0, 'Henry VI Part 1': 0.0, 'Cymbeline': 0.0, 'Henry VI Part 2': 0.0, 'As you like it': 0.0, 'Antony and Cleopatra': 0.0, 'Henry VI Part 3': 0.0, 'Coriolanus': 0.0}, 'where': {'Alls well that ends well': 1.0, 'A Comedy of Errors': 0.0, 'Henry IV': 0.0, 'Henry VI Part 1': 0.0, 'Cymbeline': 0.0, 'Henry VI Part 2': 0.0, 'As you like it': 0.0, 'Antony and Cleopatra': 0.0, 'Henry VI Part 3': 0.0, 'Coriolanus': 0.0}, 'breaking': {'Henry VI Part 3': 1.0, 'A Comedy of Errors': 0.0, 'Henry IV': 0.0, 'Alls well that ends well': 0.0, 'Henry VI Part 1': 0.0, 'Cymbeline': 0.0, 'Henry VI Part 2': 0.0, 'As you like it': 0.0, 'Antony and Cleopatra': 0.0, 'Coriolanus': 0.0}, 'flowerets': {'Henry IV': 1.0, 'A Comedy of Errors': 0.0, 'Alls well that ends well': 0.0, 'Henry VI Part 1': 0.0, 'Cymbeline': 0.0, 'Henry VI Part 2': 0.0, 'As you like it': 0.0, 'Antony and Cleopatra': 0.0, 'Henry VI Part 3': 0.0, 'Coriolanus': 0.0}, 'up': {'Alls well that ends well': 1.0, 'A Comedy of Errors': 0.0, 'Henry IV': 0.0, 'Henry VI Part 1': 0.0, 'Cymbeline': 0.0, 'Henry VI Part 2': 0.0, 'As you like it': 0.0, 'Antony and Cleopatra': 0.0, 'Henry VI Part 3': 0.0, 'Coriolanus': 0.0}, 'keeping': {'As you like it': 1.0, 'A Comedy of Errors': 0.0, 'Henry IV': 0.0, 'Alls well that ends well': 0.0, 'Henry VI Part 1': 0.0, 'Cymbeline': 0.0, 'Henry VI Part 2': 0.0, 'Antony and Cleopatra': 0.0, 'Henry VI Part 3': 0.0, 'Coriolanus': 0.0}, 'birth': {'As you like it': 1.0, 'A Comedy of Errors': 0.0, 'Henry IV': 0.0, 'Alls well that ends well': 0.0, 'Henry VI Part 1': 0.0, 'Cymbeline': 0.0, 'Henry VI Part 2': 0.0, 'Antony and Cleopatra': 0.0, 'Henry VI Part 3': 0.0, 'Coriolanus': 0.0}, 'swords': {'Henry VI Part 3': 1.0, 'A Comedy of Errors': 0.0, 'Henry IV': 0.0, 'Alls well that ends well': 0.0, 'Henry VI Part 1': 0.0, 'Cymbeline': 0.0, 'Henry VI Part 2': 0.0, 'As you like it': 0.0, 'Antony and Cleopatra': 0.0, 'Coriolanus': 0.0}, 'unto': {'Cymbeline': 1.0, 'A Comedy of Errors': 0.0, 'Henry IV': 0.0, 'Alls well that ends well': 0.0, 'Henry VI Part 1': 0.0, 'Henry VI Part 2': 0.0, 'As you like it': 0.0, 'Antony and Cleopatra': 0.0, 'Henry VI Part 3': 0.0, 'Coriolanus': 0.0}, 'she': {'Cymbeline': 1.0, 'A Comedy of Errors': 0.0, 'Henry IV': 0.0, 'Alls well that ends well': 0.0, 'Henry VI Part 1': 0.0, 'Henry VI Part 2': 0.0, 'As you like it': 0.0, 'Antony and Cleopatra': 0.0, 'Henry VI Part 3': 0.0, 'Coriolanus': 0.0}, 'neer': {'Henry VI Part 1': 1.0, 'A Comedy of Errors': 0.0, 'Henry IV': 0.0, 'Alls well that ends well': 0.0, 'Cymbeline': 0.0, 'Henry VI Part 2': 0.0, 'As you like it': 0.0, 'Antony and Cleopatra': 0.0, 'Henry VI Part 3': 0.0, 'Coriolanus': 0.0}, 'call': {'As you like it': 1.0, 'A Comedy of Errors': 0.0, 'Henry IV': 0.0, 'Alls well that ends well': 0.0, 'Henry VI Part 1': 0.0, 'Cymbeline': 0.0, 'Henry VI Part 2': 0.0, 'Antony and Cleopatra': 0.0, 'Henry VI Part 3': 0.0, 'Coriolanus': 0.0}, 'nor': {'Henry IV': 1.0, 'A Comedy of Errors': 0.0, 'Alls well that ends well': 0.0, 'Henry VI Part 1': 0.0, 'Cymbeline': 0.0, 'Henry VI Part 2': 0.0, 'As you like it': 0.0, 'Antony and Cleopatra': 0.0, 'Henry VI Part 3': 0.0, 'Coriolanus': 0.0}, 'of': {'Henry IV': 0.3333333333333333, 'Henry VI Part 3': 0.3333333333333333, 'As you like it': 0.3333333333333333, 'A Comedy of Errors': 0.0, 'Alls well that ends well': 0.0, 'Henry VI Part 1': 0.0, 'Cymbeline': 0.0, 'Henry VI Part 2': 0.0, 'Antony and Cleopatra': 0.0, 'Coriolanus': 0.0}, 'at': {'As you like it': 1.0, 'A Comedy of Errors': 0.0, 'Henry IV': 0.0, 'Alls well that ends well': 0.0, 'Henry VI Part 1': 0.0, 'Cymbeline': 0.0, 'Henry VI Part 2': 0.0, 'Antony and Cleopatra': 0.0, 'Henry VI Part 3': 0.0, 'Coriolanus': 0.0}, 'guilders': {'A Comedy of Errors': 1.0, 'Henry IV': 0.0, 'Alls well that ends well': 0.0, 'Henry VI Part 1': 0.0, 'Cymbeline': 0.0, 'Henry VI Part 2': 0.0, 'As you like it': 0.0, 'Antony and Cleopatra': 0.0, 'Henry VI Part 3': 0.0, 'Coriolanus': 0.0}, 'front': {'Henry VI Part 3': 1.0, 'A Comedy of Errors': 0.0, 'Henry IV': 0.0, 'Alls well that ends well': 0.0, 'Henry VI Part 1': 0.0, 'Cymbeline': 0.0, 'Henry VI Part 2': 0.0, 'As you like it': 0.0, 'Antony and Cleopatra': 0.0, 'Coriolanus': 0.0}, 'be': {'Coriolanus': 1.0, 'A Comedy of Errors': 0.0, 'Henry IV': 0.0, 'Alls well that ends well': 0.0, 'Henry VI Part 1': 0.0, 'Cymbeline': 0.0, 'Henry VI Part 2': 0.0, 'As you like it': 0.0, 'Antony and Cleopatra': 0.0, 'Henry VI Part 3': 0.0}, 'their': {'A Comedy of Errors': 1.0, 'Henry IV': 0.0, 'Alls well that ends well': 0.0, 'Henry VI Part 1': 0.0, 'Cymbeline': 0.0, 'Henry VI Part 2': 0.0, 'As you like it': 0.0, 'Antony and Cleopatra': 0.0, 'Henry VI Part 3': 0.0, 'Coriolanus': 0.0}, 'a': {'Henry VI Part 1': 0.25, 'As you like it': 0.25, 'Coriolanus': 0.25, 'Cymbeline': 0.25, 'A Comedy of Errors': 0.0, 'Henry IV': 0.0, 'Alls well that ends well': 0.0, 'Henry VI Part 2': 0.0, 'Antony and Cleopatra': 0.0, 'Henry VI Part 3': 0.0}}\n"
     ]
    }
   ],
   "source": [
    "# Computing weights of words for the playerlines per play\n",
    "\n",
    "prev_prob={}\n",
    "emi_zero={}\n",
    "for key,value in emission_probability.items():\n",
    "    for obs in observations:\n",
    "     prev_prob[obs] = 0.0\n",
    "     emi_zero[obs] = 0.0\n",
    "    for k,v in value.items() :\n",
    "     for obs in observations:\n",
    "       if k == obs:\n",
    "        emi_zero[obs] = v\n",
    "       else:\n",
    "        if prev_prob[obs] == 0.0:\n",
    "          emi_zero[obs] = 0.0\n",
    "        else :\n",
    "          emi_zero[obs] = prev_prob[obs]\n",
    "        prev_prob = emi_zero\n",
    "    emission_probability[key].update(emi_zero)\n",
    "print(emission_probability)"
   ]
  },
  {
   "cell_type": "markdown",
   "metadata": {},
   "source": [
    "Algorithm for forward - backward apporach works as :\n",
    "1. It computes probability of each state based on the emission probabilty and transition probability in forward direction(0 to t-1 for t)\n",
    "2. Does the same in backward direction from t+1.\n",
    "3. Smoothening and filtering out errors"
   ]
  },
  {
   "cell_type": "code",
   "execution_count": 42,
   "metadata": {},
   "outputs": [],
   "source": [
    "# Forward - backward algorithm HMM\n",
    "\n",
    "def fwd_bkw(observations, states, start_prob, trans_prob, emm_prob, end_st):\n",
    "    # forward part of the algorithm\n",
    "    fwd = []\n",
    "    f_prev = {}\n",
    "    for kv in start_word_probability.items():\n",
    "      default_start = kv[1]\n",
    "      break\n",
    "    for i, observation_i in enumerate(observations):\n",
    "        f_curr = {}\n",
    "        for st in states:\n",
    "            if i == 0:\n",
    "                # base case for the forward part\n",
    "              if st in start_word_probability:\n",
    "                  prev_f_sum = start_word_probability[st]\n",
    "              else:\n",
    "                  prev_f_sum = default_start\n",
    "            else:\n",
    "                for k in states:\n",
    "                    for key,value in trans_prob[k].items():\n",
    "                      prev_f_sum = prev_f_sum + (f_prev[k]*value)\n",
    "            f_curr[st] = emm_prob[st][observation_i] * prev_f_sum\n",
    "\n",
    "        fwd.append(f_curr)\n",
    "        f_prev = f_curr\n",
    "    fwd_total = 0\n",
    "    for k in states:\n",
    "            for key,value in trans_prob[k].items():\n",
    "              if end_state in trans_prob[k]:\n",
    "               fwd_total = fwd_total + (f_curr[k] * trans_prob[k][end_st])\n",
    "    p_fwd = fwd_total\n",
    "\n",
    "    # backward part of the algorithm\n",
    "    bkw = []\n",
    "    b_prev = {}\n",
    "    for i, observation_i_plus in enumerate(reversed(observations[1:]+(None,))):\n",
    "        b_curr = {}\n",
    "        for st in states:\n",
    "            if i == 0:\n",
    "                # base case for backward part\n",
    "                trans = transition_probability[st]\n",
    "                if end_state in trans:\n",
    "                 b_curr[st] = transition_probability[st][end_state]\n",
    "                else:\n",
    "                 b_curr[st] = 1.0\n",
    "            else:\n",
    "                for l in states:\n",
    "                    total = 0\n",
    "                    for key,value in trans_prob[l].items():\n",
    "                      total = total + value * emm_prob[l][observation_i_plus] * b_prev[l]\n",
    "                      b_curr[st] = total\n",
    "\n",
    "        bkw.insert(0,b_curr)\n",
    "        b_prev = b_curr\n",
    "\n",
    "    for l in states:\n",
    "        total_bkw = 0\n",
    "        for key,value in trans_prob[l].items():\n",
    "          total_bkw = total_bkw + (b_curr[st] * emm_prob[l][observations[0]] * b_curr[l])\n",
    "    p_bkw = total_bkw\n",
    "\n",
    "    # merging the two parts\n",
    "    posterior = []\n",
    "    for i in range(len(observations)):\n",
    "        posterior.append({st: fwd[i][st] * bkw[i][st] / p_fwd for st in states})\n",
    "\n",
    "    \n",
    "    return fwd, bkw, posterior"
   ]
  },
  {
   "cell_type": "code",
   "execution_count": 24,
   "metadata": {},
   "outputs": [],
   "source": []
  },
  {
   "cell_type": "code",
   "execution_count": 43,
   "metadata": {},
   "outputs": [],
   "source": [
    "fwd = []\n",
    "bkw = []\n",
    "posterior = []\n",
    "end_state = 'END'\n",
    "fwd,bkw,posterior = fwd_bkw(observations, states, start_word_probability, transition_probability, emission_probability, end_state)"
   ]
  },
  {
   "cell_type": "code",
   "execution_count": 50,
   "metadata": {},
   "outputs": [
    {
     "name": "stdout",
     "output_type": "stream",
     "text": [
      "Text prediction and playerline for our new play in forward path is :\n",
      "bloods seald redeem his lives wanting who statutes have to with rigorous guilders their opposed those armed hostile hoofs her eyes the paces with bruise flowerets nor of abundance is such rather worthiness would there it stir wanted lack than where up his command england deserving until had to virtue time he king neer a all wedded gentleman but banishd shes her husband imprisond poor worthy unto she a earls i barons twenty was reverend and my have espoused performd twelve bishops task seven you for properly gentleman me stays my here home that unkept keeping birth call of at a become all is reneges on his bellows temper fan and buckles breast the main common and battles our charged in the slain were by soldiers breaking swords of front away done ist more verdict no let it talking ont be a\n"
     ]
    }
   ],
   "source": [
    "# Generating text based on the weights in posterior for each word. The observation sequence is like \n",
    "#plays starting from 1 to n. So predicting text based on that.\n",
    "\n",
    "\n",
    "text_series = []\n",
    "for line in fwd :\n",
    "    for key,value in line.items():\n",
    "      if value > 0 :\n",
    "        text_series.append(key)\n",
    "print('Text prediction and playerline for our new play in forward path is :')\n",
    "print(' '.join(text_series))"
   ]
  },
  {
   "cell_type": "code",
   "execution_count": 49,
   "metadata": {},
   "outputs": [
    {
     "name": "stdout",
     "output_type": "stream",
     "text": [
      "Text prediction and playerline for our new play in backward path is :\n",
      "away earls become all you i bloods abundance is for wedded reneges opposed seald main redeem properly those common on done his barons twenty was reverend bellows such temper fan ist gentleman armed but rather more hostile banishd and buckles lives verdict battles me command wanting england stays my worthiness shes hoofs no our here who home would deserving charged that her statutes let unkept until in there it stir had have to wanted eyes breast the paces espoused talking with virtue time lack slain husband than ont imprisond he rigorous were king performd twelve poor worthy by bishops task seven soldiers bruise where breaking flowerets up keeping birth swords unto she neer call nor of at guilders front be their a away earls become all you i bloods abundance is for wedded reneges opposed seald main redeem properly those common on done his barons twenty was reverend bellows such temper fan ist gentleman armed but rather more hostile banishd and buckles lives verdict battles me command wanting england stays my worthiness shes hoofs no our here who home would deserving charged that her statutes let unkept until in there it stir had have to wanted eyes breast the paces espoused talking with virtue time lack slain husband than ont imprisond he rigorous were king performd twelve poor worthy by bishops task seven soldiers bruise where breaking flowerets up keeping birth swords unto she neer call nor of at guilders front be their a\n"
     ]
    }
   ],
   "source": [
    "# Generating text based on the weights in posterior for each word. The observation sequence is like \n",
    "#plays starting from 1 to n. So predicting text based on that.\n",
    "\n",
    "\n",
    "text_series = []\n",
    "for line in bkw :\n",
    "    for key,value in line.items():\n",
    "      if value > 0 :\n",
    "        text_series.append(key)\n",
    "print('Text prediction and playerline for our new play in backward path is :')\n",
    "print(' '.join(text_series))"
   ]
  },
  {
   "cell_type": "code",
   "execution_count": 48,
   "metadata": {},
   "outputs": [
    {
     "name": "stdout",
     "output_type": "stream",
     "text": [
      "Text prediction and playerline for our new play is :\n",
      "main common and battles our charged in the slain were by soldiers breaking swords of front away done ist more verdict no let it talking ont be a\n"
     ]
    }
   ],
   "source": [
    "# Generating text based on the weights in posterior for each word. The observation sequence is like \n",
    "#plays starting from 1 to n. So predicting text based on that.\n",
    "\n",
    "\n",
    "text_series = []\n",
    "for line in posterior :\n",
    "    for key,value in line.items():\n",
    "      if value > 0 :\n",
    "        text_series.append(key)\n",
    "print('Text prediction and playerline for our new play is :')\n",
    "print(' '.join(text_series))"
   ]
  },
  {
   "cell_type": "markdown",
   "metadata": {},
   "source": [
    "Conclusion : Text prediction is based on the sum of weights of text from previous markov chain. The error rates are reduced in case of smoothening case which gives better text prediction. From our result, we can see that prediction for the posterior weights is better."
   ]
  },
  {
   "cell_type": "code",
   "execution_count": null,
   "metadata": {},
   "outputs": [],
   "source": []
  }
 ],
 "metadata": {
  "kernelspec": {
   "display_name": "Python 3",
   "language": "python",
   "name": "python3"
  },
  "language_info": {
   "codemirror_mode": {
    "name": "ipython",
    "version": 3
   },
   "file_extension": ".py",
   "mimetype": "text/x-python",
   "name": "python",
   "nbconvert_exporter": "python",
   "pygments_lexer": "ipython3",
   "version": "3.6.5"
  }
 },
 "nbformat": 4,
 "nbformat_minor": 2
}
