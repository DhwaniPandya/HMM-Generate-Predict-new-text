{
 "cells": [
  {
   "cell_type": "markdown",
   "metadata": {},
   "source": [
    "Hidden markov model implementation for generating text prediction for text corpus player line of Shakespere dataset using forward-backward approach.\n",
    "The overall idea is to predict words based on markov chain with conditional independence. The word to be generated next is based on the previous word generated.\n",
    "\n",
    "Input dataset : https://www.kaggle.com/kingburrito666/shakespeare-plays"
   ]
  },
  {
   "cell_type": "markdown",
   "metadata": {},
   "source": [
    "Step 1: tokenization on text corpus which generates multiple tokens which is nothing but word separation of text."
   ]
  },
  {
   "cell_type": "code",
   "execution_count": 1,
   "metadata": {},
   "outputs": [],
   "source": [
    "#importing necessary libraries\n",
    "\n",
    "import pandas as pd\n",
    "import numpy as np"
   ]
  },
  {
   "cell_type": "code",
   "execution_count": 2,
   "metadata": {},
   "outputs": [
    {
     "data": {
      "text/html": [
       "<div>\n",
       "<style scoped>\n",
       "    .dataframe tbody tr th:only-of-type {\n",
       "        vertical-align: middle;\n",
       "    }\n",
       "\n",
       "    .dataframe tbody tr th {\n",
       "        vertical-align: top;\n",
       "    }\n",
       "\n",
       "    .dataframe thead th {\n",
       "        text-align: right;\n",
       "    }\n",
       "</style>\n",
       "<table border=\"1\" class=\"dataframe\">\n",
       "  <thead>\n",
       "    <tr style=\"text-align: right;\">\n",
       "      <th></th>\n",
       "      <th>Dataline</th>\n",
       "      <th>Play</th>\n",
       "      <th>PlayerLinenumber</th>\n",
       "      <th>ActSceneLine</th>\n",
       "      <th>Player</th>\n",
       "      <th>PlayerLine</th>\n",
       "    </tr>\n",
       "  </thead>\n",
       "  <tbody>\n",
       "    <tr>\n",
       "      <th>0</th>\n",
       "      <td>1</td>\n",
       "      <td>Henry IV</td>\n",
       "      <td>NaN</td>\n",
       "      <td>NaN</td>\n",
       "      <td>NaN</td>\n",
       "      <td>ACT I</td>\n",
       "    </tr>\n",
       "    <tr>\n",
       "      <th>1</th>\n",
       "      <td>2</td>\n",
       "      <td>Henry IV</td>\n",
       "      <td>NaN</td>\n",
       "      <td>NaN</td>\n",
       "      <td>NaN</td>\n",
       "      <td>SCENE I. London. The palace.</td>\n",
       "    </tr>\n",
       "    <tr>\n",
       "      <th>2</th>\n",
       "      <td>3</td>\n",
       "      <td>Henry IV</td>\n",
       "      <td>NaN</td>\n",
       "      <td>NaN</td>\n",
       "      <td>NaN</td>\n",
       "      <td>Enter KING HENRY, LORD JOHN OF LANCASTER, the ...</td>\n",
       "    </tr>\n",
       "    <tr>\n",
       "      <th>3</th>\n",
       "      <td>4</td>\n",
       "      <td>Henry IV</td>\n",
       "      <td>1.0</td>\n",
       "      <td>1.1.1</td>\n",
       "      <td>KING HENRY IV</td>\n",
       "      <td>So shaken as we are, so wan with care,</td>\n",
       "    </tr>\n",
       "    <tr>\n",
       "      <th>4</th>\n",
       "      <td>5</td>\n",
       "      <td>Henry IV</td>\n",
       "      <td>1.0</td>\n",
       "      <td>1.1.2</td>\n",
       "      <td>KING HENRY IV</td>\n",
       "      <td>Find we a time for frighted peace to pant,</td>\n",
       "    </tr>\n",
       "  </tbody>\n",
       "</table>\n",
       "</div>"
      ],
      "text/plain": [
       "   Dataline      Play  PlayerLinenumber ActSceneLine         Player  \\\n",
       "0         1  Henry IV               NaN          NaN            NaN   \n",
       "1         2  Henry IV               NaN          NaN            NaN   \n",
       "2         3  Henry IV               NaN          NaN            NaN   \n",
       "3         4  Henry IV               1.0        1.1.1  KING HENRY IV   \n",
       "4         5  Henry IV               1.0        1.1.2  KING HENRY IV   \n",
       "\n",
       "                                          PlayerLine  \n",
       "0                                              ACT I  \n",
       "1                       SCENE I. London. The palace.  \n",
       "2  Enter KING HENRY, LORD JOHN OF LANCASTER, the ...  \n",
       "3             So shaken as we are, so wan with care,  \n",
       "4         Find we a time for frighted peace to pant,  "
      ]
     },
     "execution_count": 2,
     "metadata": {},
     "output_type": "execute_result"
    }
   ],
   "source": [
    "#Reading file Shakespeare_data\n",
    "Path = r'C:\\Users\\Dhwani\\Desktop\\ML\\HW2\\Shakespeare_data\\Shakespeare_data.csv'\n",
    "ShakespeareDf = pd.read_csv(Path)\n",
    "ShakespeareDf.head()"
   ]
  },
  {
   "cell_type": "code",
   "execution_count": 3,
   "metadata": {},
   "outputs": [
    {
     "data": {
      "text/plain": [
       "Dataline               0\n",
       "Play                   0\n",
       "PlayerLinenumber       3\n",
       "ActSceneLine        6243\n",
       "Player                 7\n",
       "PlayerLine             0\n",
       "dtype: int64"
      ]
     },
     "execution_count": 3,
     "metadata": {},
     "output_type": "execute_result"
    }
   ],
   "source": [
    "ShakespeareDf.isna().sum()"
   ]
  },
  {
   "cell_type": "code",
   "execution_count": 4,
   "metadata": {},
   "outputs": [
    {
     "data": {
      "text/plain": [
       "Dataline            0\n",
       "Play                0\n",
       "PlayerLinenumber    0\n",
       "ActSceneLine        0\n",
       "Player              0\n",
       "PlayerLine          0\n",
       "dtype: int64"
      ]
     },
     "execution_count": 4,
     "metadata": {},
     "output_type": "execute_result"
    }
   ],
   "source": [
    "ShakespeareDf=ShakespeareDf.dropna()\n",
    "ShakespeareDf.isna().sum()"
   ]
  },
  {
   "cell_type": "code",
   "execution_count": 5,
   "metadata": {},
   "outputs": [],
   "source": [
    "#importing natural language tool kit for natural language processing\n",
    "import nltk\n",
    "import string\n",
    "\n",
    "tokens={}\n",
    "#this function tokenizes a sentence into number of words.\n",
    "def tokenize(text):\n",
    "    sentence = text.rstrip().lower()\n",
    "    return sentence.translate(str.maketrans('','', string.punctuation)).split() "
   ]
  },
  {
   "cell_type": "code",
   "execution_count": 6,
   "metadata": {},
   "outputs": [],
   "source": [
    "# Doing text generation with only 20 lines of playerline\n",
    "countDf = ShakespeareDf['PlayerLine'].count()\n",
    "playerLine = {}\n",
    "playerLine = ShakespeareDf.iloc[0:20]['PlayerLine']\n"
   ]
  },
  {
   "cell_type": "code",
   "execution_count": 7,
   "metadata": {},
   "outputs": [
    {
     "name": "stdout",
     "output_type": "stream",
     "text": [
      "So shaken as we are, so wan with care,\n",
      "Find we a time for frighted peace to pant,\n",
      "And breathe short-winded accents of new broils\n",
      "To be commenced in strands afar remote.\n",
      "No more the thirsty entrance of this soil\n",
      "Shall daub her lips with her own children blood,\n",
      "Nor more shall trenching war channel her fields,\n",
      "Nor bruise her flowerets with the armed hoofs\n",
      "Of hostile paces: those opposed eyes,\n",
      "Which, like the meteors of a troubled heaven,\n",
      "All of one nature, of one substance bred,\n",
      "Did lately meet in the intestine shock\n",
      "And furious close of civil butchery\n",
      "Shall now, in mutual well-beseeming ranks,\n",
      "March all one way and be no more opposed\n",
      "Against acquaintance, kindred and allies:\n",
      "The edge of war, like an ill-sheathed knife,\n",
      "No more shall cut his master. Therefore, friends,\n",
      "As far as to the sepulchre of Christ,\n",
      "Whose soldier now, under whose blessed cross\n"
     ]
    }
   ],
   "source": [
    "#input data to model\n",
    "for row in playerLine:\n",
    "    print(row)"
   ]
  },
  {
   "cell_type": "code",
   "execution_count": 8,
   "metadata": {},
   "outputs": [
    {
     "name": "stdout",
     "output_type": "stream",
     "text": [
      "so\n",
      "shaken\n",
      "as\n",
      "we\n",
      "are\n",
      "so\n",
      "wan\n",
      "with\n",
      "care\n",
      "find\n",
      "we\n",
      "a\n",
      "time\n",
      "for\n",
      "frighted\n",
      "peace\n",
      "to\n",
      "pant\n",
      "and\n",
      "breathe\n",
      "shortwinded\n",
      "accents\n",
      "of\n",
      "new\n",
      "broils\n",
      "to\n",
      "be\n",
      "commenced\n",
      "in\n",
      "strands\n",
      "afar\n",
      "remote\n",
      "no\n",
      "more\n",
      "the\n",
      "thirsty\n",
      "entrance\n",
      "of\n",
      "this\n",
      "soil\n",
      "shall\n",
      "daub\n",
      "her\n",
      "lips\n",
      "with\n",
      "her\n",
      "own\n",
      "children\n",
      "blood\n",
      "nor\n",
      "more\n",
      "shall\n",
      "trenching\n",
      "war\n",
      "channel\n",
      "her\n",
      "fields\n",
      "nor\n",
      "bruise\n",
      "her\n",
      "flowerets\n",
      "with\n",
      "the\n",
      "armed\n",
      "hoofs\n",
      "of\n",
      "hostile\n",
      "paces\n",
      "those\n",
      "opposed\n",
      "eyes\n",
      "which\n",
      "like\n",
      "the\n",
      "meteors\n",
      "of\n",
      "a\n",
      "troubled\n",
      "heaven\n",
      "all\n",
      "of\n",
      "one\n",
      "nature\n",
      "of\n",
      "one\n",
      "substance\n",
      "bred\n",
      "did\n",
      "lately\n",
      "meet\n",
      "in\n",
      "the\n",
      "intestine\n",
      "shock\n",
      "and\n",
      "furious\n",
      "close\n",
      "of\n",
      "civil\n",
      "butchery\n",
      "shall\n",
      "now\n",
      "in\n",
      "mutual\n",
      "wellbeseeming\n",
      "ranks\n",
      "march\n",
      "all\n",
      "one\n",
      "way\n",
      "and\n",
      "be\n",
      "no\n",
      "more\n",
      "opposed\n",
      "against\n",
      "acquaintance\n",
      "kindred\n",
      "and\n",
      "allies\n",
      "the\n",
      "edge\n",
      "of\n",
      "war\n",
      "like\n",
      "an\n",
      "illsheathed\n",
      "knife\n",
      "no\n",
      "more\n",
      "shall\n",
      "cut\n",
      "his\n",
      "master\n",
      "therefore\n",
      "friends\n",
      "as\n",
      "far\n",
      "as\n",
      "to\n",
      "the\n",
      "sepulchre\n",
      "of\n",
      "christ\n",
      "whose\n",
      "soldier\n",
      "now\n",
      "under\n",
      "whose\n",
      "blessed\n",
      "cross\n"
     ]
    }
   ],
   "source": [
    "for row in playerLine:\n",
    " tempToken = tokenize(row)\n",
    "    \n",
    " for ind in tempToken:\n",
    "  print(ind)"
   ]
  },
  {
   "cell_type": "code",
   "execution_count": 9,
   "metadata": {},
   "outputs": [],
   "source": [
    "# Adding key-value pair in dictionary which is prev-word current-word pair\n",
    "def addingTextInDictionary(dictionary, key, value):\n",
    "    if key not in dictionary:\n",
    "        dictionary[key] = []\n",
    "    dictionary[key].append(value)"
   ]
  },
  {
   "cell_type": "code",
   "execution_count": 10,
   "metadata": {},
   "outputs": [],
   "source": [
    "tokens = {}\n",
    "initial_text = {}\n",
    "transition_text = {}\n",
    "for row in playerLine: #For each line in playerline\n",
    " j=0;\n",
    " tempToken = tokenize(row)\n",
    " for ind in tempToken:\n",
    "    tokens[j] = ind;\n",
    "    j=j+1\n",
    " tokens_length = len(tokens)\n",
    " for i in range(tokens_length):\n",
    "    token = tokens[i]\n",
    "    #Adding first word of line into different dictionary\n",
    "    if i == 0:\n",
    "        initial_text[token] = initial_text.get(token, 0) + 1\n",
    "        continue\n",
    "    else:\n",
    "        prev_token = tokens[i - 1]\n",
    "        \n",
    "        addingTextInDictionary(transition_text, prev_token, token)\n",
    "        #For last token value would be END\n",
    "        if i == tokens_length - 1:\n",
    "            addingTextInDictionary(transition_text, token, 'END')"
   ]
  },
  {
   "cell_type": "markdown",
   "metadata": {},
   "source": [
    "Step 2 : Adding probability values with each word"
   ]
  },
  {
   "cell_type": "code",
   "execution_count": 11,
   "metadata": {},
   "outputs": [
    {
     "data": {
      "text/plain": [
       "16"
      ]
     },
     "execution_count": 11,
     "metadata": {},
     "output_type": "execute_result"
    }
   ],
   "source": [
    "len(initial_text)"
   ]
  },
  {
   "cell_type": "code",
   "execution_count": 12,
   "metadata": {},
   "outputs": [],
   "source": [
    "dictWithProbability = {}\n",
    "\n",
    "#taking probabilities of initial words seperately\n",
    "count_initial_text = sum(initial_text.values())\n",
    "for key,prob in initial_text.items():\n",
    "    initial_text[key] = prob / count_initial_text\n",
    "\n",
    "for prev_word,word in transition_text.items():\n",
    "  dictWithProbability = {}\n",
    "  total = len(word) #total next words for a token\n",
    "  for item in word:\n",
    "   dictWithProbability[item] = dictWithProbability.get(item,0) + 1\n",
    "  for key,value in dictWithProbability.items():\n",
    "   dictWithProbability[key] = value / total\n",
    "  transition_text[prev_word] = dictWithProbability\n",
    "   \n",
    " #print(item)"
   ]
  },
  {
   "cell_type": "code",
   "execution_count": 21,
   "metadata": {},
   "outputs": [
    {
     "data": {
      "text/plain": [
       "{'so': 0.05,\n",
       " 'find': 0.05,\n",
       " 'and': 0.1,\n",
       " 'to': 0.05,\n",
       " 'no': 0.1,\n",
       " 'shall': 0.1,\n",
       " 'nor': 0.1,\n",
       " 'of': 0.05,\n",
       " 'which': 0.05,\n",
       " 'all': 0.05,\n",
       " 'did': 0.05,\n",
       " 'march': 0.05,\n",
       " 'against': 0.05,\n",
       " 'the': 0.05,\n",
       " 'as': 0.05,\n",
       " 'whose': 0.05}"
      ]
     },
     "execution_count": 21,
     "metadata": {},
     "output_type": "execute_result"
    }
   ],
   "source": [
    "#Probability distribution of first word of each sentence\n",
    "initial_text"
   ]
  },
  {
   "cell_type": "code",
   "execution_count": 22,
   "metadata": {},
   "outputs": [
    {
     "data": {
      "text/plain": [
       "{'so': {'shaken': 0.5, 'wan': 0.5},\n",
       " 'shaken': {'as': 1.0},\n",
       " 'as': {'we': 0.3333333333333333,\n",
       "  'far': 0.3333333333333333,\n",
       "  'to': 0.3333333333333333},\n",
       " 'we': {'are': 0.5, 'a': 0.5},\n",
       " 'are': {'so': 1.0},\n",
       " 'wan': {'with': 1.0},\n",
       " 'with': {'care': 0.3333333333333333,\n",
       "  'her': 0.3333333333333333,\n",
       "  'the': 0.3333333333333333},\n",
       " 'care': {'END': 1.0},\n",
       " 'find': {'we': 1.0},\n",
       " 'a': {'time': 0.5, 'troubled': 0.5},\n",
       " 'time': {'for': 1.0},\n",
       " 'for': {'frighted': 1.0},\n",
       " 'frighted': {'peace': 1.0},\n",
       " 'peace': {'to': 1.0},\n",
       " 'to': {'pant': 0.6, 'be': 0.2, 'the': 0.2},\n",
       " 'pant': {'END': 1.0},\n",
       " 'and': {'breathe': 0.25, 'furious': 0.25, 'be': 0.25, 'allies': 0.25},\n",
       " 'breathe': {'shortwinded': 1.0},\n",
       " 'shortwinded': {'accents': 1.0},\n",
       " 'accents': {'of': 1.0},\n",
       " 'of': {'new': 0.1111111111111111,\n",
       "  'this': 0.1111111111111111,\n",
       "  'hostile': 0.1111111111111111,\n",
       "  'a': 0.1111111111111111,\n",
       "  'one': 0.2222222222222222,\n",
       "  'civil': 0.1111111111111111,\n",
       "  'war': 0.1111111111111111,\n",
       "  'christ': 0.1111111111111111},\n",
       " 'new': {'broils': 1.0},\n",
       " 'broils': {'to': 1.0},\n",
       " 'be': {'commenced': 0.3333333333333333, 'no': 0.6666666666666666},\n",
       " 'commenced': {'in': 1.0},\n",
       " 'in': {'strands': 0.3333333333333333,\n",
       "  'the': 0.3333333333333333,\n",
       "  'mutual': 0.3333333333333333},\n",
       " 'strands': {'afar': 1.0},\n",
       " 'afar': {'remote': 1.0},\n",
       " 'remote': {'to': 1.0},\n",
       " 'no': {'more': 1.0},\n",
       " 'more': {'the': 0.2, 'shall': 0.4, 'opposed': 0.4},\n",
       " 'the': {'thirsty': 0.16666666666666666,\n",
       "  'armed': 0.16666666666666666,\n",
       "  'meteors': 0.16666666666666666,\n",
       "  'intestine': 0.16666666666666666,\n",
       "  'edge': 0.16666666666666666,\n",
       "  'sepulchre': 0.16666666666666666},\n",
       " 'thirsty': {'entrance': 1.0},\n",
       " 'entrance': {'of': 1.0},\n",
       " 'this': {'soil': 1.0},\n",
       " 'soil': {'pant': 1.0},\n",
       " 'shall': {'daub': 0.25, 'trenching': 0.25, 'now': 0.25, 'cut': 0.25},\n",
       " 'daub': {'her': 1.0},\n",
       " 'her': {'lips': 0.25, 'own': 0.25, 'fields': 0.25, 'flowerets': 0.25},\n",
       " 'lips': {'with': 1.0},\n",
       " 'own': {'children': 1.0},\n",
       " 'children': {'blood': 1.0},\n",
       " 'blood': {'END': 1.0},\n",
       " 'nor': {'more': 0.5, 'bruise': 0.5},\n",
       " 'trenching': {'war': 1.0},\n",
       " 'war': {'channel': 0.5, 'like': 0.5},\n",
       " 'channel': {'her': 1.0},\n",
       " 'fields': {'blood': 1.0},\n",
       " 'bruise': {'her': 1.0},\n",
       " 'flowerets': {'with': 1.0},\n",
       " 'armed': {'hoofs': 1.0},\n",
       " 'hoofs': {'blood': 1.0},\n",
       " 'hostile': {'paces': 1.0},\n",
       " 'paces': {'those': 1.0},\n",
       " 'those': {'opposed': 1.0},\n",
       " 'opposed': {'eyes': 0.14285714285714285, 'END': 0.8571428571428571},\n",
       " 'eyes': {'armed': 1.0},\n",
       " 'which': {'like': 1.0},\n",
       " 'like': {'the': 0.5, 'an': 0.5},\n",
       " 'meteors': {'of': 1.0},\n",
       " 'troubled': {'heaven': 1.0},\n",
       " 'heaven': {'blood': 1.0},\n",
       " 'all': {'of': 0.5, 'one': 0.5},\n",
       " 'one': {'nature': 0.3333333333333333,\n",
       "  'substance': 0.3333333333333333,\n",
       "  'way': 0.3333333333333333},\n",
       " 'nature': {'of': 1.0},\n",
       " 'substance': {'bred': 1.0},\n",
       " 'bred': {'blood': 1.0},\n",
       " 'did': {'lately': 1.0},\n",
       " 'lately': {'meet': 1.0},\n",
       " 'meet': {'in': 1.0},\n",
       " 'intestine': {'shock': 1.0},\n",
       " 'shock': {'bred': 1.0},\n",
       " 'furious': {'close': 1.0},\n",
       " 'close': {'of': 1.0},\n",
       " 'civil': {'butchery': 1.0},\n",
       " 'butchery': {'shock': 1.0},\n",
       " 'now': {'in': 0.5, 'under': 0.5},\n",
       " 'mutual': {'wellbeseeming': 1.0},\n",
       " 'wellbeseeming': {'ranks': 1.0},\n",
       " 'ranks': {'shock': 1.0},\n",
       " 'march': {'all': 1.0},\n",
       " 'way': {'and': 1.0},\n",
       " 'against': {'acquaintance': 1.0},\n",
       " 'acquaintance': {'kindred': 1.0},\n",
       " 'kindred': {'and': 1.0},\n",
       " 'allies': {'be': 1.0},\n",
       " 'edge': {'of': 1.0},\n",
       " 'an': {'illsheathed': 1.0},\n",
       " 'illsheathed': {'knife': 1.0},\n",
       " 'knife': {'opposed': 1.0},\n",
       " 'cut': {'his': 1.0},\n",
       " 'his': {'master': 1.0},\n",
       " 'master': {'therefore': 1.0},\n",
       " 'therefore': {'friends': 1.0},\n",
       " 'friends': {'opposed': 1.0},\n",
       " 'far': {'as': 1.0},\n",
       " 'sepulchre': {'of': 1.0},\n",
       " 'christ': {'opposed': 1.0},\n",
       " 'whose': {'soldier': 0.5, 'blessed': 0.5},\n",
       " 'soldier': {'now': 1.0},\n",
       " 'under': {'whose': 1.0},\n",
       " 'blessed': {'cross': 1.0},\n",
       " 'cross': {'christ': 1.0}}"
      ]
     },
     "execution_count": 22,
     "metadata": {},
     "output_type": "execute_result"
    }
   ],
   "source": [
    "#Probability distribution of word based on its previous word of each sentence\n",
    "#key is previous word and value is projected next words with their probabilities of occurence.\n",
    "transition_text"
   ]
  },
  {
   "cell_type": "markdown",
   "metadata": {},
   "source": [
    "Step 3 : generating next words based on its probability distribution."
   ]
  },
  {
   "cell_type": "code",
   "execution_count": 15,
   "metadata": {},
   "outputs": [],
   "source": [
    "def pick_nextword(dictionary):\n",
    "    #Picking random number between to 0 to 1 to pick next possible word for current token\n",
    "    random_number = np.random.random()\n",
    "    #print(p0)\n",
    "    summation = 0\n",
    "    \n",
    "    for key,value in dictionary.items():\n",
    "        summation = summation + value\n",
    "        if random_number < summation:\n",
    "         return key\n",
    "    assert(False)"
   ]
  },
  {
   "cell_type": "code",
   "execution_count": 20,
   "metadata": {},
   "outputs": [
    {
     "data": {
      "text/plain": [
       "'wan'"
      ]
     },
     "execution_count": 20,
     "metadata": {},
     "output_type": "execute_result"
    }
   ],
   "source": [
    "# Let's say I want to pick next word after so\n",
    "pick_nextword(transition_text.get('so'))"
   ]
  },
  {
   "cell_type": "code",
   "execution_count": 16,
   "metadata": {},
   "outputs": [],
   "source": [
    "def text_prediction():\n",
    "    for i in range(20):\n",
    "        sentence = []\n",
    "        #Prediction of first word of line\n",
    "        prev_word = pick_nextword(initial_text)\n",
    "        sentence.append(prev_word)\n",
    "        \n",
    "        while True:\n",
    "            next_word = pick_nextword(transition_text.get(prev_word))\n",
    "            if next_word == 'END':\n",
    "                break\n",
    "            sentence.append(next_word)\n",
    "            prev_word = next_word\n",
    "    \n",
    "        print(' '.join(sentence))"
   ]
  },
  {
   "cell_type": "code",
   "execution_count": 17,
   "metadata": {},
   "outputs": [
    {
     "name": "stdout",
     "output_type": "stream",
     "text": [
      "as to pant\n",
      "the sepulchre of one nature of this soil pant\n",
      "march all of a time for frighted peace to the sepulchre of war channel her lips with the meteors of civil butchery shock bred blood\n",
      "so wan with the thirsty entrance of one nature of hostile paces those opposed\n",
      "no more opposed\n",
      "so wan with the sepulchre of civil butchery shock bred blood\n",
      "and be commenced in the sepulchre of civil butchery shock bred blood\n",
      "to pant\n",
      "whose soldier now under whose soldier now under whose soldier now under whose blessed cross christ opposed eyes armed hoofs blood\n",
      "to pant\n",
      "shall daub her flowerets with the meteors of a time for frighted peace to be no more shall daub her own children blood\n",
      "whose soldier now under whose soldier now in the armed hoofs blood\n",
      "no more shall cut his master therefore friends opposed\n",
      "whose soldier now under whose soldier now under whose blessed cross christ opposed eyes armed hoofs blood\n",
      "no more shall daub her lips with her flowerets with care\n",
      "all one way and allies be commenced in strands afar remote to the edge of civil butchery shock bred blood\n",
      "did lately meet in mutual wellbeseeming ranks shock bred blood\n",
      "nor more opposed\n",
      "whose blessed cross christ opposed eyes armed hoofs blood\n",
      "shall now in strands afar remote to the intestine shock bred blood\n"
     ]
    }
   ],
   "source": [
    "text_prediction()"
   ]
  },
  {
   "cell_type": "markdown",
   "metadata": {},
   "source": [
    "Conclusion : \n",
    "The text is predicted based on the frequency of the previously generated words. This model could be trained based on the forward/backward message propagation."
   ]
  },
  {
   "cell_type": "code",
   "execution_count": null,
   "metadata": {},
   "outputs": [],
   "source": []
  }
 ],
 "metadata": {
  "kernelspec": {
   "display_name": "Python 3",
   "language": "python",
   "name": "python3"
  },
  "language_info": {
   "codemirror_mode": {
    "name": "ipython",
    "version": 3
   },
   "file_extension": ".py",
   "mimetype": "text/x-python",
   "name": "python",
   "nbconvert_exporter": "python",
   "pygments_lexer": "ipython3",
   "version": "3.6.5"
  }
 },
 "nbformat": 4,
 "nbformat_minor": 2
}
